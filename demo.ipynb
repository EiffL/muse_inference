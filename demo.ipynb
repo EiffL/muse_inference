{
 "cells": [
  {
   "cell_type": "markdown",
   "id": "771a31d3",
   "metadata": {},
   "source": [
    "# Demo"
   ]
  },
  {
   "cell_type": "code",
   "execution_count": 1,
   "id": "284f49a3",
   "metadata": {
    "execution": {
     "iopub.execute_input": "2022-01-13T08:29:01.929592Z",
     "iopub.status.busy": "2022-01-13T08:29:01.928946Z",
     "iopub.status.idle": "2022-01-13T08:29:06.384974Z",
     "shell.execute_reply": "2022-01-13T08:29:06.384036Z"
    },
    "nbsphinx": "hidden",
    "tags": []
   },
   "outputs": [],
   "source": [
    "%matplotlib inline\n",
    "import matplotlib as mpl\n",
    "mpl.rcParams['figure.dpi'] = 110\n",
    "%load_ext autoreload\n",
    "%autoreload 2\n",
    "import sys\n",
    "sys.path.append(\"..\")"
   ]
  },
  {
   "cell_type": "code",
   "execution_count": 2,
   "id": "5be46382",
   "metadata": {
    "execution": {
     "iopub.execute_input": "2022-01-13T08:29:06.389909Z",
     "iopub.status.busy": "2022-01-13T08:29:06.388865Z",
     "iopub.status.idle": "2022-01-13T08:29:06.537392Z",
     "shell.execute_reply": "2022-01-13T08:29:06.537838Z"
    }
   },
   "outputs": [],
   "source": [
    "import matplotlib.pyplot as plt\n",
    "from muse_inference import muse, MuseProblem, MuseResult\n",
    "import numpy as np"
   ]
  },
  {
   "cell_type": "code",
   "execution_count": 3,
   "id": "9e38df85",
   "metadata": {
    "execution": {
     "iopub.execute_input": "2022-01-13T08:29:06.541626Z",
     "iopub.status.busy": "2022-01-13T08:29:06.541065Z",
     "iopub.status.idle": "2022-01-13T08:29:06.553308Z",
     "shell.execute_reply": "2022-01-13T08:29:06.552851Z"
    }
   },
   "outputs": [],
   "source": [
    "θ_true = 1"
   ]
  },
  {
   "cell_type": "markdown",
   "id": "582086ac",
   "metadata": {
    "incorrectly_encoded_metadata": "jp-MarkdownHeadingCollapsed=true",
    "tags": []
   },
   "source": [
    "## With numpy"
   ]
  },
  {
   "cell_type": "code",
   "execution_count": 4,
   "id": "2e5b70a4",
   "metadata": {
    "execution": {
     "iopub.execute_input": "2022-01-13T08:29:06.561316Z",
     "iopub.status.busy": "2022-01-13T08:29:06.560588Z",
     "iopub.status.idle": "2022-01-13T08:29:06.572789Z",
     "shell.execute_reply": "2022-01-13T08:29:06.573235Z"
    }
   },
   "outputs": [],
   "source": [
    "class NumpyFunnelMuseProblem(MuseProblem):\n",
    "    \n",
    "    def __init__(self, N):\n",
    "        self.N = N\n",
    "    \n",
    "    def sample_x_z(self, rng, θ):\n",
    "        z = rng.randn(self.N) * np.exp(θ/2)\n",
    "        x = z + rng.randn(self.N)\n",
    "        return (x, z)\n",
    "    \n",
    "    def gradθ_logLike(self, x, z, θ):\n",
    "        return np.sum(z**2)/(2*np.exp(θ)) - self.N/2\n",
    "    \n",
    "    def logLike_and_gradz_logLike(self, x, z, θ):\n",
    "        logLike = -(np.sum((x - z)**2) + np.sum(z**2) / np.exp(θ) + 512*θ) / 2\n",
    "        gradz_logLike = x - z * (1 + np.exp(-θ))\n",
    "        return (logLike, gradz_logLike)\n",
    "    \n",
    "    def grad_hess_θ_logPrior(self, θ):\n",
    "        return (-θ/(3**2), -1/3**2)\n",
    "    "
   ]
  },
  {
   "cell_type": "code",
   "execution_count": 5,
   "id": "8dec20ae",
   "metadata": {
    "execution": {
     "iopub.execute_input": "2022-01-13T08:29:06.579179Z",
     "iopub.status.busy": "2022-01-13T08:29:06.578475Z",
     "iopub.status.idle": "2022-01-13T08:29:06.589354Z",
     "shell.execute_reply": "2022-01-13T08:29:06.589747Z"
    }
   },
   "outputs": [],
   "source": [
    "prob = NumpyFunnelMuseProblem(512)\n",
    "rng = np.random.RandomState(0)\n",
    "(x, z) = prob.sample_x_z(rng, θ_true)\n",
    "prob.x = x"
   ]
  },
  {
   "cell_type": "code",
   "execution_count": 6,
   "id": "bf3e7bac",
   "metadata": {
    "execution": {
     "iopub.execute_input": "2022-01-13T08:29:06.595395Z",
     "iopub.status.busy": "2022-01-13T08:29:06.594118Z",
     "iopub.status.idle": "2022-01-13T08:29:07.992172Z",
     "shell.execute_reply": "2022-01-13T08:29:07.991653Z"
    }
   },
   "outputs": [
    {
     "name": "stderr",
     "output_type": "stream",
     "text": [
      "\r",
      "  0%|          | 0/1010 [00:00<?, ?it/s]"
     ]
    },
    {
     "name": "stderr",
     "output_type": "stream",
     "text": [
      "\r",
      "  7%|▋         | 68/1010 [00:00<00:01, 674.53it/s]"
     ]
    },
    {
     "name": "stderr",
     "output_type": "stream",
     "text": [
      "\r",
      " 13%|█▎        | 136/1010 [00:00<00:01, 650.86it/s]"
     ]
    },
    {
     "name": "stderr",
     "output_type": "stream",
     "text": [
      "\r",
      " 20%|██        | 203/1010 [00:00<00:01, 641.72it/s]"
     ]
    },
    {
     "name": "stderr",
     "output_type": "stream",
     "text": [
      "\r",
      " 27%|██▋       | 277/1010 [00:00<00:01, 676.68it/s]"
     ]
    },
    {
     "name": "stderr",
     "output_type": "stream",
     "text": [
      "\r",
      " 35%|███▍      | 350/1010 [00:00<00:00, 692.61it/s]"
     ]
    },
    {
     "name": "stderr",
     "output_type": "stream",
     "text": [
      "\r",
      " 42%|████▏     | 423/1010 [00:00<00:00, 703.19it/s]"
     ]
    },
    {
     "name": "stderr",
     "output_type": "stream",
     "text": [
      "\r",
      " 50%|████▉     | 500/1010 [00:00<00:00, 721.79it/s]"
     ]
    },
    {
     "name": "stderr",
     "output_type": "stream",
     "text": [
      "\r",
      " 57%|█████▋    | 573/1010 [00:00<00:00, 714.01it/s]"
     ]
    },
    {
     "name": "stderr",
     "output_type": "stream",
     "text": [
      "\r",
      " 64%|██████▍   | 645/1010 [00:00<00:00, 706.91it/s]"
     ]
    },
    {
     "name": "stderr",
     "output_type": "stream",
     "text": [
      "\r",
      " 71%|███████   | 716/1010 [00:01<00:00, 699.15it/s]"
     ]
    },
    {
     "name": "stderr",
     "output_type": "stream",
     "text": [
      "\r",
      " 78%|███████▊  | 791/1010 [00:01<00:00, 712.96it/s]"
     ]
    },
    {
     "name": "stderr",
     "output_type": "stream",
     "text": [
      "\r",
      " 85%|████████▌ | 863/1010 [00:01<00:00, 711.01it/s]"
     ]
    },
    {
     "name": "stderr",
     "output_type": "stream",
     "text": [
      "\r",
      "100%|██████████| 1010/1010 [00:01<00:00, 774.17it/s]"
     ]
    },
    {
     "name": "stderr",
     "output_type": "stream",
     "text": [
      "\n"
     ]
    }
   ],
   "source": [
    "result = MuseResult()\n",
    "muse(result, prob, 0, α=0.7, rng=np.random.RandomState(3), gradz_logLike_atol=1e-4, progress=True, maxsteps=10);"
   ]
  },
  {
   "cell_type": "code",
   "execution_count": 7,
   "id": "8022aa8d",
   "metadata": {
    "execution": {
     "iopub.execute_input": "2022-01-13T08:29:07.997865Z",
     "iopub.status.busy": "2022-01-13T08:29:07.996068Z",
     "iopub.status.idle": "2022-01-13T08:29:08.224637Z",
     "shell.execute_reply": "2022-01-13T08:29:08.225361Z"
    }
   },
   "outputs": [
    {
     "data": {
      "image/png": "[encoded data removed]",
      "text/plain": [
       "<Figure size 660x440 with 1 Axes>"
      ]
     },
     "metadata": {
      "needs_background": "light"
     },
     "output_type": "display_data"
    }
   ],
   "source": [
    "plt.plot([h[\"θ\"] for h in result.history], \".-\")\n",
    "plt.xlabel(\"step\")\n",
    "plt.ylabel(\"θ\");"
   ]
  },
  {
   "cell_type": "markdown",
   "id": "a44110a4",
   "metadata": {
    "incorrectly_encoded_metadata": "jp-MarkdownHeadingCollapsed=true",
    "tags": []
   },
   "source": [
    "## With Jax"
   ]
  },
  {
   "cell_type": "code",
   "execution_count": 8,
   "id": "41c941b9",
   "metadata": {
    "execution": {
     "iopub.execute_input": "2022-01-13T08:29:08.229946Z",
     "iopub.status.busy": "2022-01-13T08:29:08.228869Z",
     "iopub.status.idle": "2022-01-13T08:29:08.687581Z",
     "shell.execute_reply": "2022-01-13T08:29:08.686417Z"
    }
   },
   "outputs": [],
   "source": [
    "import jax\n",
    "import jax.numpy as jnp\n",
    "from muse_inference.jax import JittedJaxMuseProblem"
   ]
  },
  {
   "cell_type": "code",
   "execution_count": 9,
   "id": "f06b4fae",
   "metadata": {
    "execution": {
     "iopub.execute_input": "2022-01-13T08:29:08.695672Z",
     "iopub.status.busy": "2022-01-13T08:29:08.694128Z",
     "iopub.status.idle": "2022-01-13T08:29:08.710694Z",
     "shell.execute_reply": "2022-01-13T08:29:08.709952Z"
    }
   },
   "outputs": [],
   "source": [
    "class JaxFunnelMuseProblem(JittedJaxMuseProblem):\n",
    "    \n",
    "    def __init__(self, N):\n",
    "        self.N = N\n",
    "\n",
    "    def sample_x_z(self, rng, θ):\n",
    "        z = rng.randn(self.N) * np.exp(θ/2)\n",
    "        x = z + rng.randn(self.N)\n",
    "        return (x, z)\n",
    "\n",
    "    def logLike(self, x, z, θ):\n",
    "        return -(jnp.sum((x - z)**2) + jnp.sum(z**2) / jnp.exp(θ) + 512*θ) / 2\n",
    "    \n",
    "    def logPrior(self, θ):\n",
    "        return -θ**2 / (2*3**2)\n",
    "    "
   ]
  },
  {
   "cell_type": "code",
   "execution_count": 10,
   "id": "31fe1b7e",
   "metadata": {
    "execution": {
     "iopub.execute_input": "2022-01-13T08:29:08.714885Z",
     "iopub.status.busy": "2022-01-13T08:29:08.713980Z",
     "iopub.status.idle": "2022-01-13T08:29:08.727209Z",
     "shell.execute_reply": "2022-01-13T08:29:08.727634Z"
    }
   },
   "outputs": [],
   "source": [
    "prob = JaxFunnelMuseProblem(512)\n",
    "rng = np.random.RandomState(0)\n",
    "(x, z) = prob.sample_x_z(rng, θ_true)\n",
    "prob.x = x"
   ]
  },
  {
   "cell_type": "code",
   "execution_count": 11,
   "id": "c3cf83cf",
   "metadata": {
    "execution": {
     "iopub.execute_input": "2022-01-13T08:29:08.732152Z",
     "iopub.status.busy": "2022-01-13T08:29:08.731304Z",
     "iopub.status.idle": "2022-01-13T08:29:29.966794Z",
     "shell.execute_reply": "2022-01-13T08:29:29.967310Z"
    }
   },
   "outputs": [
    {
     "name": "stderr",
     "output_type": "stream",
     "text": [
      "\r",
      "  0%|          | 0/1010 [00:00<?, ?it/s]"
     ]
    },
    {
     "name": "stderr",
     "output_type": "stream",
     "text": [
      "WARNING:absl:No GPU/TPU found, falling back to CPU. (Set TF_CPP_MIN_LOG_LEVEL=0 and rerun for more info.)\n"
     ]
    },
    {
     "name": "stderr",
     "output_type": "stream",
     "text": [
      "\r",
      "  0%|          | 1/1010 [00:01<32:28,  1.93s/it]"
     ]
    },
    {
     "name": "stderr",
     "output_type": "stream",
     "text": [
      "\r",
      "  0%|          | 5/1010 [00:02<05:11,  3.23it/s]"
     ]
    },
    {
     "name": "stderr",
     "output_type": "stream",
     "text": [
      "\r",
      "  1%|          | 10/1010 [00:02<02:17,  7.30it/s]"
     ]
    },
    {
     "name": "stderr",
     "output_type": "stream",
     "text": [
      "\r",
      "  1%|▏         | 15/1010 [00:02<01:24, 11.81it/s]"
     ]
    },
    {
     "name": "stderr",
     "output_type": "stream",
     "text": [
      "\r",
      "  2%|▏         | 19/1010 [00:02<01:03, 15.56it/s]"
     ]
    },
    {
     "name": "stderr",
     "output_type": "stream",
     "text": [
      "\r",
      "  2%|▏         | 24/1010 [00:02<00:48, 20.39it/s]"
     ]
    },
    {
     "name": "stderr",
     "output_type": "stream",
     "text": [
      "\r",
      "  3%|▎         | 29/1010 [00:02<00:39, 24.96it/s]"
     ]
    },
    {
     "name": "stderr",
     "output_type": "stream",
     "text": [
      "\r",
      "  3%|▎         | 34/1010 [00:02<00:33, 28.78it/s]"
     ]
    },
    {
     "name": "stderr",
     "output_type": "stream",
     "text": [
      "\r",
      "  4%|▍         | 39/1010 [00:02<00:30, 32.08it/s]"
     ]
    },
    {
     "name": "stderr",
     "output_type": "stream",
     "text": [
      "\r",
      "  4%|▍         | 44/1010 [00:02<00:27, 34.88it/s]"
     ]
    },
    {
     "name": "stderr",
     "output_type": "stream",
     "text": [
      "\r",
      "  5%|▍         | 49/1010 [00:03<00:26, 36.35it/s]"
     ]
    },
    {
     "name": "stderr",
     "output_type": "stream",
     "text": [
      "\r",
      "  5%|▌         | 54/1010 [00:03<00:25, 37.35it/s]"
     ]
    },
    {
     "name": "stderr",
     "output_type": "stream",
     "text": [
      "\r",
      "  6%|▌         | 59/1010 [00:03<00:24, 38.64it/s]"
     ]
    },
    {
     "name": "stderr",
     "output_type": "stream",
     "text": [
      "\r",
      "  6%|▋         | 64/1010 [00:03<00:23, 39.94it/s]"
     ]
    },
    {
     "name": "stderr",
     "output_type": "stream",
     "text": [
      "\r",
      "  7%|▋         | 69/1010 [00:03<00:23, 40.67it/s]"
     ]
    },
    {
     "name": "stderr",
     "output_type": "stream",
     "text": [
      "\r",
      "  7%|▋         | 74/1010 [00:03<00:22, 40.76it/s]"
     ]
    },
    {
     "name": "stderr",
     "output_type": "stream",
     "text": [
      "\r",
      "  8%|▊         | 79/1010 [00:03<00:23, 39.78it/s]"
     ]
    },
    {
     "name": "stderr",
     "output_type": "stream",
     "text": [
      "\r",
      "  8%|▊         | 84/1010 [00:03<00:23, 39.58it/s]"
     ]
    },
    {
     "name": "stderr",
     "output_type": "stream",
     "text": [
      "\r",
      "  9%|▉         | 89/1010 [00:04<00:22, 40.15it/s]"
     ]
    },
    {
     "name": "stderr",
     "output_type": "stream",
     "text": [
      "\r",
      "  9%|▉         | 94/1010 [00:04<00:22, 40.60it/s]"
     ]
    },
    {
     "name": "stderr",
     "output_type": "stream",
     "text": [
      "\r",
      " 10%|▉         | 99/1010 [00:04<00:22, 40.54it/s]"
     ]
    },
    {
     "name": "stderr",
     "output_type": "stream",
     "text": [
      "\r",
      " 10%|█         | 104/1010 [00:06<02:13,  6.80it/s]"
     ]
    },
    {
     "name": "stderr",
     "output_type": "stream",
     "text": [
      "\r",
      " 11%|█         | 108/1010 [00:06<01:44,  8.63it/s]"
     ]
    },
    {
     "name": "stderr",
     "output_type": "stream",
     "text": [
      "\r",
      " 11%|█         | 113/1010 [00:06<01:18, 11.46it/s]"
     ]
    },
    {
     "name": "stderr",
     "output_type": "stream",
     "text": [
      "\r",
      " 12%|█▏        | 118/1010 [00:06<01:00, 14.82it/s]"
     ]
    },
    {
     "name": "stderr",
     "output_type": "stream",
     "text": [
      "\r",
      " 12%|█▏        | 123/1010 [00:06<00:48, 18.38it/s]"
     ]
    },
    {
     "name": "stderr",
     "output_type": "stream",
     "text": [
      "\r",
      " 13%|█▎        | 128/1010 [00:07<00:39, 22.17it/s]"
     ]
    },
    {
     "name": "stderr",
     "output_type": "stream",
     "text": [
      "\r",
      " 13%|█▎        | 133/1010 [00:07<00:33, 26.00it/s]"
     ]
    },
    {
     "name": "stderr",
     "output_type": "stream",
     "text": [
      "\r",
      " 14%|█▎        | 138/1010 [00:07<00:29, 29.62it/s]"
     ]
    },
    {
     "name": "stderr",
     "output_type": "stream",
     "text": [
      "\r",
      " 14%|█▍        | 143/1010 [00:07<00:26, 32.51it/s]"
     ]
    },
    {
     "name": "stderr",
     "output_type": "stream",
     "text": [
      "\r",
      " 15%|█▍        | 148/1010 [00:07<00:24, 34.95it/s]"
     ]
    },
    {
     "name": "stderr",
     "output_type": "stream",
     "text": [
      "\r",
      " 15%|█▌        | 153/1010 [00:07<00:23, 36.94it/s]"
     ]
    },
    {
     "name": "stderr",
     "output_type": "stream",
     "text": [
      "\r",
      " 16%|█▌        | 158/1010 [00:07<00:22, 38.25it/s]"
     ]
    },
    {
     "name": "stderr",
     "output_type": "stream",
     "text": [
      "\r",
      " 16%|█▌        | 163/1010 [00:07<00:21, 39.61it/s]"
     ]
    },
    {
     "name": "stderr",
     "output_type": "stream",
     "text": [
      "\r",
      " 17%|█▋        | 168/1010 [00:08<00:21, 39.44it/s]"
     ]
    },
    {
     "name": "stderr",
     "output_type": "stream",
     "text": [
      "\r",
      " 17%|█▋        | 173/1010 [00:08<00:21, 38.37it/s]"
     ]
    },
    {
     "name": "stderr",
     "output_type": "stream",
     "text": [
      "\r",
      " 18%|█▊        | 177/1010 [00:08<00:22, 37.85it/s]"
     ]
    },
    {
     "name": "stderr",
     "output_type": "stream",
     "text": [
      "\r",
      " 18%|█▊        | 181/1010 [00:08<00:21, 37.73it/s]"
     ]
    },
    {
     "name": "stderr",
     "output_type": "stream",
     "text": [
      "\r",
      " 18%|█▊        | 186/1010 [00:08<00:21, 39.13it/s]"
     ]
    },
    {
     "name": "stderr",
     "output_type": "stream",
     "text": [
      "\r",
      " 19%|█▉        | 191/1010 [00:08<00:20, 39.67it/s]"
     ]
    },
    {
     "name": "stderr",
     "output_type": "stream",
     "text": [
      "\r",
      " 19%|█▉        | 196/1010 [00:08<00:20, 40.25it/s]"
     ]
    },
    {
     "name": "stderr",
     "output_type": "stream",
     "text": [
      "\r",
      " 20%|█▉        | 201/1010 [00:08<00:20, 39.85it/s]"
     ]
    },
    {
     "name": "stderr",
     "output_type": "stream",
     "text": [
      "\r",
      " 20%|██        | 206/1010 [00:09<00:23, 33.78it/s]"
     ]
    },
    {
     "name": "stderr",
     "output_type": "stream",
     "text": [
      "\r",
      " 21%|██        | 210/1010 [00:09<00:22, 35.08it/s]"
     ]
    },
    {
     "name": "stderr",
     "output_type": "stream",
     "text": [
      "\r",
      " 21%|██▏       | 215/1010 [00:09<00:21, 36.31it/s]"
     ]
    },
    {
     "name": "stderr",
     "output_type": "stream",
     "text": [
      "\r",
      " 22%|██▏       | 220/1010 [00:09<00:20, 37.87it/s]"
     ]
    },
    {
     "name": "stderr",
     "output_type": "stream",
     "text": [
      "\r",
      " 22%|██▏       | 224/1010 [00:09<00:20, 37.93it/s]"
     ]
    },
    {
     "name": "stderr",
     "output_type": "stream",
     "text": [
      "\r",
      " 23%|██▎       | 229/1010 [00:09<00:19, 39.07it/s]"
     ]
    },
    {
     "name": "stderr",
     "output_type": "stream",
     "text": [
      "\r",
      " 23%|██▎       | 234/1010 [00:09<00:19, 40.14it/s]"
     ]
    },
    {
     "name": "stderr",
     "output_type": "stream",
     "text": [
      "\r",
      " 24%|██▎       | 239/1010 [00:09<00:18, 40.63it/s]"
     ]
    },
    {
     "name": "stderr",
     "output_type": "stream",
     "text": [
      "\r",
      " 24%|██▍       | 244/1010 [00:09<00:18, 40.97it/s]"
     ]
    },
    {
     "name": "stderr",
     "output_type": "stream",
     "text": [
      "\r",
      " 25%|██▍       | 249/1010 [00:10<00:18, 41.57it/s]"
     ]
    },
    {
     "name": "stderr",
     "output_type": "stream",
     "text": [
      "\r",
      " 25%|██▌       | 254/1010 [00:10<00:18, 41.42it/s]"
     ]
    },
    {
     "name": "stderr",
     "output_type": "stream",
     "text": [
      "\r",
      " 26%|██▌       | 259/1010 [00:10<00:18, 41.40it/s]"
     ]
    },
    {
     "name": "stderr",
     "output_type": "stream",
     "text": [
      "\r",
      " 26%|██▌       | 264/1010 [00:10<00:17, 41.60it/s]"
     ]
    },
    {
     "name": "stderr",
     "output_type": "stream",
     "text": [
      "\r",
      " 27%|██▋       | 269/1010 [00:10<00:17, 42.01it/s]"
     ]
    },
    {
     "name": "stderr",
     "output_type": "stream",
     "text": [
      "\r",
      " 27%|██▋       | 274/1010 [00:10<00:17, 41.88it/s]"
     ]
    },
    {
     "name": "stderr",
     "output_type": "stream",
     "text": [
      "\r",
      " 28%|██▊       | 279/1010 [00:10<00:17, 42.02it/s]"
     ]
    },
    {
     "name": "stderr",
     "output_type": "stream",
     "text": [
      "\r",
      " 28%|██▊       | 284/1010 [00:10<00:17, 41.38it/s]"
     ]
    },
    {
     "name": "stderr",
     "output_type": "stream",
     "text": [
      "\r",
      " 29%|██▊       | 289/1010 [00:11<00:17, 42.04it/s]"
     ]
    },
    {
     "name": "stderr",
     "output_type": "stream",
     "text": [
      "\r",
      " 29%|██▉       | 294/1010 [00:11<00:16, 42.37it/s]"
     ]
    },
    {
     "name": "stderr",
     "output_type": "stream",
     "text": [
      "\r",
      " 30%|██▉       | 299/1010 [00:11<00:16, 42.27it/s]"
     ]
    },
    {
     "name": "stderr",
     "output_type": "stream",
     "text": [
      "\r",
      " 30%|███       | 304/1010 [00:11<00:16, 42.00it/s]"
     ]
    },
    {
     "name": "stderr",
     "output_type": "stream",
     "text": [
      "\r",
      " 31%|███       | 311/1010 [00:11<00:14, 48.31it/s]"
     ]
    },
    {
     "name": "stderr",
     "output_type": "stream",
     "text": [
      "\r",
      " 31%|███▏      | 318/1010 [00:11<00:13, 52.14it/s]"
     ]
    },
    {
     "name": "stderr",
     "output_type": "stream",
     "text": [
      "\r",
      " 32%|███▏      | 325/1010 [00:11<00:12, 55.01it/s]"
     ]
    },
    {
     "name": "stderr",
     "output_type": "stream",
     "text": [
      "\r",
      " 33%|███▎      | 331/1010 [00:11<00:12, 55.88it/s]"
     ]
    },
    {
     "name": "stderr",
     "output_type": "stream",
     "text": [
      "\r",
      " 33%|███▎      | 337/1010 [00:11<00:11, 56.79it/s]"
     ]
    },
    {
     "name": "stderr",
     "output_type": "stream",
     "text": [
      "\r",
      " 34%|███▍      | 344/1010 [00:12<00:11, 58.60it/s]"
     ]
    },
    {
     "name": "stderr",
     "output_type": "stream",
     "text": [
      "\r",
      " 35%|███▍      | 351/1010 [00:12<00:11, 59.90it/s]"
     ]
    },
    {
     "name": "stderr",
     "output_type": "stream",
     "text": [
      "\r",
      " 35%|███▌      | 358/1010 [00:12<00:10, 60.87it/s]"
     ]
    },
    {
     "name": "stderr",
     "output_type": "stream",
     "text": [
      "\r",
      " 36%|███▌      | 365/1010 [00:12<00:10, 61.48it/s]"
     ]
    },
    {
     "name": "stderr",
     "output_type": "stream",
     "text": [
      "\r",
      " 37%|███▋      | 372/1010 [00:12<00:10, 61.56it/s]"
     ]
    },
    {
     "name": "stderr",
     "output_type": "stream",
     "text": [
      "\r",
      " 38%|███▊      | 379/1010 [00:12<00:10, 61.22it/s]"
     ]
    },
    {
     "name": "stderr",
     "output_type": "stream",
     "text": [
      "\r",
      " 38%|███▊      | 386/1010 [00:12<00:10, 61.37it/s]"
     ]
    },
    {
     "name": "stderr",
     "output_type": "stream",
     "text": [
      "\r",
      " 39%|███▉      | 393/1010 [00:12<00:09, 62.30it/s]"
     ]
    },
    {
     "name": "stderr",
     "output_type": "stream",
     "text": [
      "\r",
      " 40%|███▉      | 400/1010 [00:12<00:09, 63.10it/s]"
     ]
    },
    {
     "name": "stderr",
     "output_type": "stream",
     "text": [
      "\r",
      " 40%|████      | 407/1010 [00:13<00:09, 62.11it/s]"
     ]
    },
    {
     "name": "stderr",
     "output_type": "stream",
     "text": [
      "\r",
      " 41%|████      | 414/1010 [00:13<00:09, 62.90it/s]"
     ]
    },
    {
     "name": "stderr",
     "output_type": "stream",
     "text": [
      "\r",
      " 42%|████▏     | 421/1010 [00:13<00:09, 63.21it/s]"
     ]
    },
    {
     "name": "stderr",
     "output_type": "stream",
     "text": [
      "\r",
      " 42%|████▏     | 428/1010 [00:13<00:09, 62.41it/s]"
     ]
    },
    {
     "name": "stderr",
     "output_type": "stream",
     "text": [
      "\r",
      " 43%|████▎     | 435/1010 [00:13<00:09, 61.56it/s]"
     ]
    },
    {
     "name": "stderr",
     "output_type": "stream",
     "text": [
      "\r",
      " 44%|████▍     | 442/1010 [00:13<00:09, 62.54it/s]"
     ]
    },
    {
     "name": "stderr",
     "output_type": "stream",
     "text": [
      "\r",
      " 44%|████▍     | 449/1010 [00:13<00:09, 61.88it/s]"
     ]
    },
    {
     "name": "stderr",
     "output_type": "stream",
     "text": [
      "\r",
      " 45%|████▌     | 456/1010 [00:13<00:08, 62.07it/s]"
     ]
    },
    {
     "name": "stderr",
     "output_type": "stream",
     "text": [
      "\r",
      " 46%|████▌     | 463/1010 [00:13<00:08, 61.49it/s]"
     ]
    },
    {
     "name": "stderr",
     "output_type": "stream",
     "text": [
      "\r",
      " 47%|████▋     | 470/1010 [00:14<00:08, 62.12it/s]"
     ]
    },
    {
     "name": "stderr",
     "output_type": "stream",
     "text": [
      "\r",
      " 47%|████▋     | 477/1010 [00:14<00:08, 62.35it/s]"
     ]
    },
    {
     "name": "stderr",
     "output_type": "stream",
     "text": [
      "\r",
      " 48%|████▊     | 484/1010 [00:14<00:08, 62.22it/s]"
     ]
    },
    {
     "name": "stderr",
     "output_type": "stream",
     "text": [
      "\r",
      " 49%|████▊     | 491/1010 [00:14<00:08, 62.26it/s]"
     ]
    },
    {
     "name": "stderr",
     "output_type": "stream",
     "text": [
      "\r",
      " 49%|████▉     | 498/1010 [00:14<00:08, 62.46it/s]"
     ]
    },
    {
     "name": "stderr",
     "output_type": "stream",
     "text": [
      "\r",
      " 50%|█████     | 505/1010 [00:14<00:08, 62.78it/s]"
     ]
    },
    {
     "name": "stderr",
     "output_type": "stream",
     "text": [
      "\r",
      " 51%|█████     | 512/1010 [00:14<00:08, 59.98it/s]"
     ]
    },
    {
     "name": "stderr",
     "output_type": "stream",
     "text": [
      "\r",
      " 51%|█████▏    | 519/1010 [00:14<00:08, 60.24it/s]"
     ]
    },
    {
     "name": "stderr",
     "output_type": "stream",
     "text": [
      "\r",
      " 52%|█████▏    | 526/1010 [00:15<00:07, 60.68it/s]"
     ]
    },
    {
     "name": "stderr",
     "output_type": "stream",
     "text": [
      "\r",
      " 53%|█████▎    | 533/1010 [00:15<00:07, 61.33it/s]"
     ]
    },
    {
     "name": "stderr",
     "output_type": "stream",
     "text": [
      "\r",
      " 53%|█████▎    | 540/1010 [00:15<00:07, 61.17it/s]"
     ]
    },
    {
     "name": "stderr",
     "output_type": "stream",
     "text": [
      "\r",
      " 54%|█████▍    | 547/1010 [00:15<00:07, 61.62it/s]"
     ]
    },
    {
     "name": "stderr",
     "output_type": "stream",
     "text": [
      "\r",
      " 55%|█████▍    | 554/1010 [00:15<00:07, 62.00it/s]"
     ]
    },
    {
     "name": "stderr",
     "output_type": "stream",
     "text": [
      "\r",
      " 56%|█████▌    | 561/1010 [00:15<00:07, 61.87it/s]"
     ]
    },
    {
     "name": "stderr",
     "output_type": "stream",
     "text": [
      "\r",
      " 56%|█████▌    | 568/1010 [00:15<00:07, 61.37it/s]"
     ]
    },
    {
     "name": "stderr",
     "output_type": "stream",
     "text": [
      "\r",
      " 57%|█████▋    | 575/1010 [00:15<00:07, 60.44it/s]"
     ]
    },
    {
     "name": "stderr",
     "output_type": "stream",
     "text": [
      "\r",
      " 58%|█████▊    | 582/1010 [00:15<00:07, 60.04it/s]"
     ]
    },
    {
     "name": "stderr",
     "output_type": "stream",
     "text": [
      "\r",
      " 58%|█████▊    | 589/1010 [00:16<00:06, 60.50it/s]"
     ]
    },
    {
     "name": "stderr",
     "output_type": "stream",
     "text": [
      "\r",
      " 59%|█████▉    | 596/1010 [00:16<00:06, 61.18it/s]"
     ]
    },
    {
     "name": "stderr",
     "output_type": "stream",
     "text": [
      "\r",
      " 60%|█████▉    | 603/1010 [00:16<00:06, 61.36it/s]"
     ]
    },
    {
     "name": "stderr",
     "output_type": "stream",
     "text": [
      "\r",
      " 60%|██████    | 610/1010 [00:16<00:06, 59.37it/s]"
     ]
    },
    {
     "name": "stderr",
     "output_type": "stream",
     "text": [
      "\r",
      " 61%|██████    | 617/1010 [00:16<00:06, 60.37it/s]"
     ]
    },
    {
     "name": "stderr",
     "output_type": "stream",
     "text": [
      "\r",
      " 62%|██████▏   | 624/1010 [00:16<00:06, 61.07it/s]"
     ]
    },
    {
     "name": "stderr",
     "output_type": "stream",
     "text": [
      "\r",
      " 62%|██████▏   | 631/1010 [00:16<00:06, 61.16it/s]"
     ]
    },
    {
     "name": "stderr",
     "output_type": "stream",
     "text": [
      "\r",
      " 63%|██████▎   | 638/1010 [00:16<00:06, 60.07it/s]"
     ]
    },
    {
     "name": "stderr",
     "output_type": "stream",
     "text": [
      "\r",
      " 64%|██████▍   | 645/1010 [00:16<00:05, 61.27it/s]"
     ]
    },
    {
     "name": "stderr",
     "output_type": "stream",
     "text": [
      "\r",
      " 65%|██████▍   | 652/1010 [00:17<00:05, 62.76it/s]"
     ]
    },
    {
     "name": "stderr",
     "output_type": "stream",
     "text": [
      "\r",
      " 65%|██████▌   | 659/1010 [00:17<00:05, 63.19it/s]"
     ]
    },
    {
     "name": "stderr",
     "output_type": "stream",
     "text": [
      "\r",
      " 66%|██████▌   | 666/1010 [00:17<00:05, 63.89it/s]"
     ]
    },
    {
     "name": "stderr",
     "output_type": "stream",
     "text": [
      "\r",
      " 67%|██████▋   | 673/1010 [00:17<00:05, 62.95it/s]"
     ]
    },
    {
     "name": "stderr",
     "output_type": "stream",
     "text": [
      "\r",
      " 67%|██████▋   | 680/1010 [00:17<00:05, 63.19it/s]"
     ]
    },
    {
     "name": "stderr",
     "output_type": "stream",
     "text": [
      "\r",
      " 68%|██████▊   | 687/1010 [00:17<00:05, 62.59it/s]"
     ]
    },
    {
     "name": "stderr",
     "output_type": "stream",
     "text": [
      "\r",
      " 69%|██████▊   | 694/1010 [00:17<00:05, 62.52it/s]"
     ]
    },
    {
     "name": "stderr",
     "output_type": "stream",
     "text": [
      "\r",
      " 69%|██████▉   | 701/1010 [00:17<00:05, 61.69it/s]"
     ]
    },
    {
     "name": "stderr",
     "output_type": "stream",
     "text": [
      "\r",
      " 70%|███████   | 708/1010 [00:17<00:05, 60.07it/s]"
     ]
    },
    {
     "name": "stderr",
     "output_type": "stream",
     "text": [
      "\r",
      " 71%|███████   | 715/1010 [00:18<00:04, 60.31it/s]"
     ]
    },
    {
     "name": "stderr",
     "output_type": "stream",
     "text": [
      "\r",
      " 71%|███████▏  | 722/1010 [00:18<00:04, 61.01it/s]"
     ]
    },
    {
     "name": "stderr",
     "output_type": "stream",
     "text": [
      "\r",
      " 72%|███████▏  | 729/1010 [00:18<00:04, 61.05it/s]"
     ]
    },
    {
     "name": "stderr",
     "output_type": "stream",
     "text": [
      "\r",
      " 73%|███████▎  | 736/1010 [00:18<00:04, 60.73it/s]"
     ]
    },
    {
     "name": "stderr",
     "output_type": "stream",
     "text": [
      "\r",
      " 74%|███████▎  | 743/1010 [00:18<00:04, 61.50it/s]"
     ]
    },
    {
     "name": "stderr",
     "output_type": "stream",
     "text": [
      "\r",
      " 74%|███████▍  | 750/1010 [00:18<00:04, 60.67it/s]"
     ]
    },
    {
     "name": "stderr",
     "output_type": "stream",
     "text": [
      "\r",
      " 75%|███████▍  | 757/1010 [00:18<00:04, 59.45it/s]"
     ]
    },
    {
     "name": "stderr",
     "output_type": "stream",
     "text": [
      "\r",
      " 76%|███████▌  | 763/1010 [00:18<00:04, 57.87it/s]"
     ]
    },
    {
     "name": "stderr",
     "output_type": "stream",
     "text": [
      "\r",
      " 76%|███████▌  | 769/1010 [00:18<00:04, 57.46it/s]"
     ]
    },
    {
     "name": "stderr",
     "output_type": "stream",
     "text": [
      "\r",
      " 77%|███████▋  | 776/1010 [00:19<00:03, 59.54it/s]"
     ]
    },
    {
     "name": "stderr",
     "output_type": "stream",
     "text": [
      "\r",
      " 78%|███████▊  | 783/1010 [00:19<00:03, 60.52it/s]"
     ]
    },
    {
     "name": "stderr",
     "output_type": "stream",
     "text": [
      "\r",
      " 78%|███████▊  | 790/1010 [00:19<00:03, 60.07it/s]"
     ]
    },
    {
     "name": "stderr",
     "output_type": "stream",
     "text": [
      "\r",
      " 79%|███████▉  | 797/1010 [00:19<00:03, 60.72it/s]"
     ]
    },
    {
     "name": "stderr",
     "output_type": "stream",
     "text": [
      "\r",
      " 80%|███████▉  | 804/1010 [00:19<00:03, 61.04it/s]"
     ]
    },
    {
     "name": "stderr",
     "output_type": "stream",
     "text": [
      "\r",
      " 80%|████████  | 811/1010 [00:19<00:03, 60.56it/s]"
     ]
    },
    {
     "name": "stderr",
     "output_type": "stream",
     "text": [
      "\r",
      " 81%|████████  | 818/1010 [00:19<00:03, 61.35it/s]"
     ]
    },
    {
     "name": "stderr",
     "output_type": "stream",
     "text": [
      "\r",
      " 82%|████████▏ | 825/1010 [00:19<00:02, 61.77it/s]"
     ]
    },
    {
     "name": "stderr",
     "output_type": "stream",
     "text": [
      "\r",
      " 82%|████████▏ | 832/1010 [00:20<00:02, 62.53it/s]"
     ]
    },
    {
     "name": "stderr",
     "output_type": "stream",
     "text": [
      "\r",
      " 83%|████████▎ | 839/1010 [00:20<00:02, 62.23it/s]"
     ]
    },
    {
     "name": "stderr",
     "output_type": "stream",
     "text": [
      "\r",
      " 84%|████████▍ | 846/1010 [00:20<00:02, 62.56it/s]"
     ]
    },
    {
     "name": "stderr",
     "output_type": "stream",
     "text": [
      "\r",
      " 84%|████████▍ | 853/1010 [00:20<00:02, 61.66it/s]"
     ]
    },
    {
     "name": "stderr",
     "output_type": "stream",
     "text": [
      "\r",
      " 85%|████████▌ | 860/1010 [00:20<00:02, 62.42it/s]"
     ]
    },
    {
     "name": "stderr",
     "output_type": "stream",
     "text": [
      "\r",
      " 86%|████████▌ | 867/1010 [00:20<00:02, 64.25it/s]"
     ]
    },
    {
     "name": "stderr",
     "output_type": "stream",
     "text": [
      "\r",
      " 87%|████████▋ | 874/1010 [00:20<00:02, 64.58it/s]"
     ]
    },
    {
     "name": "stderr",
     "output_type": "stream",
     "text": [
      "\r",
      " 87%|████████▋ | 881/1010 [00:20<00:01, 66.06it/s]"
     ]
    },
    {
     "name": "stderr",
     "output_type": "stream",
     "text": [
      "\r",
      " 88%|████████▊ | 888/1010 [00:20<00:01, 63.88it/s]"
     ]
    },
    {
     "name": "stderr",
     "output_type": "stream",
     "text": [
      "\r",
      " 89%|████████▊ | 895/1010 [00:20<00:01, 64.15it/s]"
     ]
    },
    {
     "name": "stderr",
     "output_type": "stream",
     "text": [
      "\r",
      " 89%|████████▉ | 902/1010 [00:21<00:01, 65.02it/s]"
     ]
    },
    {
     "name": "stderr",
     "output_type": "stream",
     "text": [
      "\r",
      " 90%|█████████ | 909/1010 [00:21<00:01, 65.12it/s]"
     ]
    },
    {
     "name": "stderr",
     "output_type": "stream",
     "text": [
      "\r",
      "100%|██████████| 1010/1010 [00:21<00:00, 47.62it/s]"
     ]
    },
    {
     "name": "stderr",
     "output_type": "stream",
     "text": [
      "\n"
     ]
    }
   ],
   "source": [
    "result = MuseResult()\n",
    "muse(result, prob, 0., α=0.7, rng=np.random.RandomState(3), gradz_logLike_atol=1e-4, progress=True, maxsteps=10);"
   ]
  },
  {
   "cell_type": "code",
   "execution_count": 12,
   "id": "f9d618d7",
   "metadata": {
    "execution": {
     "iopub.execute_input": "2022-01-13T08:29:29.973042Z",
     "iopub.status.busy": "2022-01-13T08:29:29.971603Z",
     "iopub.status.idle": "2022-01-13T08:29:30.186874Z",
     "shell.execute_reply": "2022-01-13T08:29:30.187585Z"
    }
   },
   "outputs": [
    {
     "data": {
      "image/png": "[encoded data removed]",
      "text/plain": [
       "<Figure size 660x440 with 1 Axes>"
      ]
     },
     "metadata": {
      "needs_background": "light"
     },
     "output_type": "display_data"
    }
   ],
   "source": [
    "plt.plot([h[\"θ\"] for h in result.history], \".-\")\n",
    "plt.xlabel(\"step\")\n",
    "plt.ylabel(\"θ\");"
   ]
  },
  {
   "cell_type": "markdown",
   "id": "dba687cc",
   "metadata": {},
   "source": [
    "## With PyMC"
   ]
  },
  {
   "cell_type": "code",
   "execution_count": 13,
   "id": "432186d9",
   "metadata": {
    "execution": {
     "iopub.execute_input": "2022-01-13T08:29:30.191689Z",
     "iopub.status.busy": "2022-01-13T08:29:30.191053Z",
     "iopub.status.idle": "2022-01-13T08:29:34.453125Z",
     "shell.execute_reply": "2022-01-13T08:29:34.452555Z"
    }
   },
   "outputs": [],
   "source": [
    "import pymc as pm\n",
    "from muse_inference.pymc import PyMCMuseProblem"
   ]
  },
  {
   "cell_type": "code",
   "execution_count": 14,
   "id": "9f5a9853",
   "metadata": {
    "execution": {
     "iopub.execute_input": "2022-01-13T08:29:34.459780Z",
     "iopub.status.busy": "2022-01-13T08:29:34.458979Z",
     "iopub.status.idle": "2022-01-13T08:30:32.265935Z",
     "shell.execute_reply": "2022-01-13T08:30:32.266789Z"
    }
   },
   "outputs": [],
   "source": [
    "def gen_funnel(x=None, θ=None):\n",
    "    with pm.Model() as funnel:\n",
    "        θ = θ if θ else pm.Normal(\"θ\", 0, 3)\n",
    "        z = pm.Normal(\"z\", 0, np.exp(θ / 2), size=512)\n",
    "        x = pm.Normal(\"x\", z, 1, observed=x)\n",
    "    return funnel\n",
    "        \n",
    "x_obs = pm.sample_prior_predictive(1, model=gen_funnel(θ=θ_true)).prior.x[0,0]\n",
    "funnel = gen_funnel(x_obs)\n",
    "prob = PyMCMuseProblem(funnel)\n",
    "prob.x = x_obs"
   ]
  },
  {
   "cell_type": "code",
   "execution_count": 15,
   "id": "e387583f",
   "metadata": {
    "execution": {
     "iopub.execute_input": "2022-01-13T08:30:32.272494Z",
     "iopub.status.busy": "2022-01-13T08:30:32.271936Z",
     "iopub.status.idle": "2022-01-13T08:31:07.984961Z",
     "shell.execute_reply": "2022-01-13T08:31:07.984522Z"
    }
   },
   "outputs": [
    {
     "name": "stderr",
     "output_type": "stream",
     "text": [
      "\r",
      "  0%|          | 0/1010 [00:00<?, ?it/s]"
     ]
    },
    {
     "name": "stderr",
     "output_type": "stream",
     "text": [
      "\r",
      "  6%|▌         | 57/1010 [00:00<00:01, 561.35it/s]"
     ]
    },
    {
     "name": "stderr",
     "output_type": "stream",
     "text": [
      "\r",
      " 11%|█▏        | 114/1010 [00:03<00:32, 27.27it/s]"
     ]
    },
    {
     "name": "stderr",
     "output_type": "stream",
     "text": [
      "\r",
      " 17%|█▋        | 174/1010 [00:03<00:16, 49.41it/s]"
     ]
    },
    {
     "name": "stderr",
     "output_type": "stream",
     "text": [
      "\r",
      " 21%|██▏       | 215/1010 [00:07<00:32, 24.59it/s]"
     ]
    },
    {
     "name": "stderr",
     "output_type": "stream",
     "text": [
      "\r",
      " 27%|██▋       | 274/1010 [00:07<00:18, 39.40it/s]"
     ]
    },
    {
     "name": "stderr",
     "output_type": "stream",
     "text": [
      "\r",
      " 31%|███       | 312/1010 [00:10<00:29, 23.31it/s]"
     ]
    },
    {
     "name": "stderr",
     "output_type": "stream",
     "text": [
      "\r",
      " 37%|███▋      | 374/1010 [00:10<00:17, 36.86it/s]"
     ]
    },
    {
     "name": "stderr",
     "output_type": "stream",
     "text": [
      "\r",
      " 41%|████      | 411/1010 [00:14<00:26, 22.97it/s]"
     ]
    },
    {
     "name": "stderr",
     "output_type": "stream",
     "text": [
      "\r",
      " 47%|████▋     | 473/1010 [00:14<00:15, 35.70it/s]"
     ]
    },
    {
     "name": "stderr",
     "output_type": "stream",
     "text": [
      "\r",
      " 50%|█████     | 510/1010 [00:17<00:21, 22.91it/s]"
     ]
    },
    {
     "name": "stderr",
     "output_type": "stream",
     "text": [
      "\r",
      " 57%|█████▋    | 573/1010 [00:17<00:12, 35.52it/s]"
     ]
    },
    {
     "name": "stderr",
     "output_type": "stream",
     "text": [
      "\r",
      " 60%|██████    | 611/1010 [00:21<00:17, 23.06it/s]"
     ]
    },
    {
     "name": "stderr",
     "output_type": "stream",
     "text": [
      "\r",
      " 67%|██████▋   | 674/1010 [00:21<00:09, 35.48it/s]"
     ]
    },
    {
     "name": "stderr",
     "output_type": "stream",
     "text": [
      "\r",
      " 70%|███████   | 712/1010 [00:24<00:12, 23.34it/s]"
     ]
    },
    {
     "name": "stderr",
     "output_type": "stream",
     "text": [
      "\r",
      " 77%|███████▋  | 774/1010 [00:25<00:06, 35.56it/s]"
     ]
    },
    {
     "name": "stderr",
     "output_type": "stream",
     "text": [
      "\r",
      " 80%|████████  | 811/1010 [00:28<00:08, 23.09it/s]"
     ]
    },
    {
     "name": "stderr",
     "output_type": "stream",
     "text": [
      "\r",
      " 86%|████████▋ | 873/1010 [00:28<00:03, 35.26it/s]"
     ]
    },
    {
     "name": "stderr",
     "output_type": "stream",
     "text": [
      "\r",
      " 90%|█████████ | 910/1010 [00:32<00:04, 23.01it/s]"
     ]
    },
    {
     "name": "stderr",
     "output_type": "stream",
     "text": [
      "\r",
      " 96%|█████████▌| 972/1010 [00:32<00:01, 35.17it/s]"
     ]
    },
    {
     "name": "stderr",
     "output_type": "stream",
     "text": [
      "\r",
      "100%|██████████| 1010/1010 [00:32<00:00, 31.37it/s]"
     ]
    },
    {
     "name": "stderr",
     "output_type": "stream",
     "text": [
      "\n"
     ]
    }
   ],
   "source": [
    "result = MuseResult()\n",
    "muse(result, prob, 0., α=0.7, rng=np.random.RandomState(3), gradz_logLike_atol=1e-4, progress=True, maxsteps=10);"
   ]
  },
  {
   "cell_type": "code",
   "execution_count": 16,
   "id": "5bbe9a06",
   "metadata": {
    "execution": {
     "iopub.execute_input": "2022-01-13T08:31:07.990537Z",
     "iopub.status.busy": "2022-01-13T08:31:07.990003Z",
     "iopub.status.idle": "2022-01-13T08:31:08.190058Z",
     "shell.execute_reply": "2022-01-13T08:31:08.189531Z"
    }
   },
   "outputs": [
    {
     "data": {
      "image/png": "[encoded data removed]",
      "text/plain": [
       "<Figure size 660x440 with 1 Axes>"
      ]
     },
     "metadata": {
      "needs_background": "light"
     },
     "output_type": "display_data"
    }
   ],
   "source": [
    "plt.plot([h[\"θ\"] for h in result.history], \".-\")\n",
    "plt.xlabel(\"step\")\n",
    "plt.ylabel(\"θ\");"
   ]
  }
 ],
 "metadata": {
  "jupytext": {
   "formats": "md,ipynb",
   "text_representation": {
    "extension": ".md",
    "format_name": "markdown",
    "format_version": "1.3",
    "jupytext_version": "1.13.6"
   }
  },
  "kernelspec": {
   "display_name": "Python 3",
   "language": "python",
   "name": "python3"
  },
  "language_info": {
   "codemirror_mode": {
    "name": "ipython",
    "version": 3
   },
   "file_extension": ".py",
   "mimetype": "text/x-python",
   "name": "python",
   "nbconvert_exporter": "python",
   "pygments_lexer": "ipython3",
   "version": "3.9.9"
  }
 },
 "nbformat": 4,
 "nbformat_minor": 5
}
