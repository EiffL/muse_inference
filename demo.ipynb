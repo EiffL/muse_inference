{
 "cells": [
  {
   "cell_type": "markdown",
   "id": "450884e5",
   "metadata": {},
   "source": [
    "# Demo"
   ]
  },
  {
   "cell_type": "code",
   "execution_count": 1,
   "id": "94318a82",
   "metadata": {
    "execution": {
     "iopub.execute_input": "2022-01-13T09:31:58.341094Z",
     "iopub.status.busy": "2022-01-13T09:31:58.340556Z",
     "iopub.status.idle": "2022-01-13T09:32:01.817698Z",
     "shell.execute_reply": "2022-01-13T09:32:01.817112Z"
    },
    "nbsphinx": "hidden",
    "tags": []
   },
   "outputs": [],
   "source": [
    "%matplotlib inline\n",
    "import matplotlib as mpl\n",
    "mpl.rcParams['figure.dpi'] = 110\n",
    "%load_ext autoreload\n",
    "%autoreload 2\n",
    "import sys\n",
    "sys.path.append(\"..\")"
   ]
  },
  {
   "cell_type": "markdown",
   "id": "07a10e4b",
   "metadata": {},
   "source": [
    "Sample text. $\\mathcal{P}(x\\,|\\,\\theta)$"
   ]
  },
  {
   "cell_type": "code",
   "execution_count": 2,
   "id": "2299c572",
   "metadata": {
    "execution": {
     "iopub.execute_input": "2022-01-13T09:32:01.822154Z",
     "iopub.status.busy": "2022-01-13T09:32:01.821218Z",
     "iopub.status.idle": "2022-01-13T09:32:01.967237Z",
     "shell.execute_reply": "2022-01-13T09:32:01.966379Z"
    }
   },
   "outputs": [],
   "source": [
    "import matplotlib.pyplot as plt\n",
    "from muse_inference import muse, MuseProblem, MuseResult\n",
    "import numpy as np"
   ]
  },
  {
   "cell_type": "code",
   "execution_count": 3,
   "id": "012dbaf1",
   "metadata": {
    "execution": {
     "iopub.execute_input": "2022-01-13T09:32:01.971045Z",
     "iopub.status.busy": "2022-01-13T09:32:01.970573Z",
     "iopub.status.idle": "2022-01-13T09:32:01.983425Z",
     "shell.execute_reply": "2022-01-13T09:32:01.982673Z"
    }
   },
   "outputs": [],
   "source": [
    "θ_true = 1"
   ]
  },
  {
   "cell_type": "markdown",
   "id": "b885cb8a",
   "metadata": {
    "incorrectly_encoded_metadata": "jp-MarkdownHeadingCollapsed=true",
    "tags": []
   },
   "source": [
    "## With numpy"
   ]
  },
  {
   "cell_type": "code",
   "execution_count": 4,
   "id": "d4f58384",
   "metadata": {
    "execution": {
     "iopub.execute_input": "2022-01-13T09:32:01.989589Z",
     "iopub.status.busy": "2022-01-13T09:32:01.989107Z",
     "iopub.status.idle": "2022-01-13T09:32:02.001500Z",
     "shell.execute_reply": "2022-01-13T09:32:02.001090Z"
    }
   },
   "outputs": [],
   "source": [
    "class NumpyFunnelMuseProblem(MuseProblem):\n",
    "    \n",
    "    def __init__(self, N):\n",
    "        self.N = N\n",
    "    \n",
    "    def sample_x_z(self, rng, θ):\n",
    "        z = rng.randn(self.N) * np.exp(θ/2)\n",
    "        x = z + rng.randn(self.N)\n",
    "        return (x, z)\n",
    "    \n",
    "    def gradθ_logLike(self, x, z, θ):\n",
    "        return np.sum(z**2)/(2*np.exp(θ)) - self.N/2\n",
    "    \n",
    "    def logLike_and_gradz_logLike(self, x, z, θ):\n",
    "        logLike = -(np.sum((x - z)**2) + np.sum(z**2) / np.exp(θ) + 512*θ) / 2\n",
    "        gradz_logLike = x - z * (1 + np.exp(-θ))\n",
    "        return (logLike, gradz_logLike)\n",
    "    \n",
    "    def grad_hess_θ_logPrior(self, θ):\n",
    "        return (-θ/(3**2), -1/3**2)\n",
    "    "
   ]
  },
  {
   "cell_type": "code",
   "execution_count": 5,
   "id": "e6c67023",
   "metadata": {
    "execution": {
     "iopub.execute_input": "2022-01-13T09:32:02.005507Z",
     "iopub.status.busy": "2022-01-13T09:32:02.004525Z",
     "iopub.status.idle": "2022-01-13T09:32:02.017074Z",
     "shell.execute_reply": "2022-01-13T09:32:02.016317Z"
    }
   },
   "outputs": [],
   "source": [
    "prob = NumpyFunnelMuseProblem(512)\n",
    "rng = np.random.RandomState(0)\n",
    "(x, z) = prob.sample_x_z(rng, θ_true)\n",
    "prob.x = x"
   ]
  },
  {
   "cell_type": "code",
   "execution_count": 6,
   "id": "d7d4e13b",
   "metadata": {
    "execution": {
     "iopub.execute_input": "2022-01-13T09:32:02.020665Z",
     "iopub.status.busy": "2022-01-13T09:32:02.020202Z",
     "iopub.status.idle": "2022-01-13T09:32:03.017838Z",
     "shell.execute_reply": "2022-01-13T09:32:03.018254Z"
    }
   },
   "outputs": [
    {
     "name": "stderr",
     "output_type": "stream",
     "text": [
      "\r",
      "  0%|          | 0/1010 [00:00<?, ?it/s]"
     ]
    },
    {
     "name": "stderr",
     "output_type": "stream",
     "text": [
      "\r",
      "  9%|▉         | 95/1010 [00:00<00:00, 941.44it/s]"
     ]
    },
    {
     "name": "stderr",
     "output_type": "stream",
     "text": [
      "\r",
      " 19%|█▉        | 190/1010 [00:00<00:00, 935.44it/s]"
     ]
    },
    {
     "name": "stderr",
     "output_type": "stream",
     "text": [
      "\r",
      " 28%|██▊       | 285/1010 [00:00<00:00, 938.85it/s]"
     ]
    },
    {
     "name": "stderr",
     "output_type": "stream",
     "text": [
      "\r",
      " 38%|███▊      | 384/1010 [00:00<00:00, 956.33it/s]"
     ]
    },
    {
     "name": "stderr",
     "output_type": "stream",
     "text": [
      "\r",
      " 48%|████▊     | 482/1010 [00:00<00:00, 964.57it/s]"
     ]
    },
    {
     "name": "stderr",
     "output_type": "stream",
     "text": [
      "\r",
      " 58%|█████▊    | 587/1010 [00:00<00:00, 992.08it/s]"
     ]
    },
    {
     "name": "stderr",
     "output_type": "stream",
     "text": [
      "\r",
      " 69%|██████▊   | 693/1010 [00:00<00:00, 1012.44it/s]"
     ]
    },
    {
     "name": "stderr",
     "output_type": "stream",
     "text": [
      "\r",
      " 79%|███████▉  | 798/1010 [00:00<00:00, 1024.04it/s]"
     ]
    },
    {
     "name": "stderr",
     "output_type": "stream",
     "text": [
      "\r",
      " 89%|████████▉ | 901/1010 [00:00<00:00, 1025.46it/s]"
     ]
    },
    {
     "name": "stderr",
     "output_type": "stream",
     "text": [
      "\r",
      "100%|██████████| 1010/1010 [00:00<00:00, 1097.39it/s]"
     ]
    },
    {
     "name": "stderr",
     "output_type": "stream",
     "text": [
      "\n"
     ]
    }
   ],
   "source": [
    "result = MuseResult()\n",
    "muse(result, prob, 0, α=0.7, rng=np.random.RandomState(3), gradz_logLike_atol=1e-4, progress=True, maxsteps=10);"
   ]
  },
  {
   "cell_type": "code",
   "execution_count": 7,
   "id": "87ae0706",
   "metadata": {
    "execution": {
     "iopub.execute_input": "2022-01-13T09:32:03.022452Z",
     "iopub.status.busy": "2022-01-13T09:32:03.021485Z",
     "iopub.status.idle": "2022-01-13T09:32:03.184670Z",
     "shell.execute_reply": "2022-01-13T09:32:03.184244Z"
    }
   },
   "outputs": [
    {
     "data": {
      "image/png": "[encoded data removed]",
      "text/plain": [
       "<Figure size 660x440 with 1 Axes>"
      ]
     },
     "metadata": {
      "needs_background": "light"
     },
     "output_type": "display_data"
    }
   ],
   "source": [
    "plt.plot([h[\"θ\"] for h in result.history], \".-\")\n",
    "plt.xlabel(\"step\")\n",
    "plt.ylabel(\"θ\");"
   ]
  },
  {
   "cell_type": "markdown",
   "id": "fe3c72d1",
   "metadata": {
    "incorrectly_encoded_metadata": "jp-MarkdownHeadingCollapsed=true",
    "tags": []
   },
   "source": [
    "## With Jax"
   ]
  },
  {
   "cell_type": "code",
   "execution_count": 8,
   "id": "4985b7c3",
   "metadata": {
    "execution": {
     "iopub.execute_input": "2022-01-13T09:32:03.192493Z",
     "iopub.status.busy": "2022-01-13T09:32:03.191444Z",
     "iopub.status.idle": "2022-01-13T09:32:03.639993Z",
     "shell.execute_reply": "2022-01-13T09:32:03.639142Z"
    }
   },
   "outputs": [],
   "source": [
    "import jax\n",
    "import jax.numpy as jnp\n",
    "from muse_inference.jax import JittedJaxMuseProblem"
   ]
  },
  {
   "cell_type": "code",
   "execution_count": 9,
   "id": "5d6685d1",
   "metadata": {
    "execution": {
     "iopub.execute_input": "2022-01-13T09:32:03.648692Z",
     "iopub.status.busy": "2022-01-13T09:32:03.647379Z",
     "iopub.status.idle": "2022-01-13T09:32:03.660195Z",
     "shell.execute_reply": "2022-01-13T09:32:03.660815Z"
    }
   },
   "outputs": [],
   "source": [
    "class JaxFunnelMuseProblem(JittedJaxMuseProblem):\n",
    "    \n",
    "    def __init__(self, N):\n",
    "        self.N = N\n",
    "\n",
    "    def sample_x_z(self, rng, θ):\n",
    "        z = rng.randn(self.N) * np.exp(θ/2)\n",
    "        x = z + rng.randn(self.N)\n",
    "        return (x, z)\n",
    "\n",
    "    def logLike(self, x, z, θ):\n",
    "        return -(jnp.sum((x - z)**2) + jnp.sum(z**2) / jnp.exp(θ) + 512*θ) / 2\n",
    "    \n",
    "    def logPrior(self, θ):\n",
    "        return -θ**2 / (2*3**2)\n",
    "    "
   ]
  },
  {
   "cell_type": "code",
   "execution_count": 10,
   "id": "e91a8841",
   "metadata": {
    "execution": {
     "iopub.execute_input": "2022-01-13T09:32:03.664481Z",
     "iopub.status.busy": "2022-01-13T09:32:03.664019Z",
     "iopub.status.idle": "2022-01-13T09:32:03.679312Z",
     "shell.execute_reply": "2022-01-13T09:32:03.678887Z"
    }
   },
   "outputs": [],
   "source": [
    "prob = JaxFunnelMuseProblem(512)\n",
    "rng = np.random.RandomState(0)\n",
    "(x, z) = prob.sample_x_z(rng, θ_true)\n",
    "prob.x = x"
   ]
  },
  {
   "cell_type": "code",
   "execution_count": 11,
   "id": "f68c5f54",
   "metadata": {
    "execution": {
     "iopub.execute_input": "2022-01-13T09:32:03.683394Z",
     "iopub.status.busy": "2022-01-13T09:32:03.682589Z",
     "iopub.status.idle": "2022-01-13T09:32:14.373296Z",
     "shell.execute_reply": "2022-01-13T09:32:14.373651Z"
    }
   },
   "outputs": [
    {
     "name": "stderr",
     "output_type": "stream",
     "text": [
      "\r",
      "  0%|          | 0/1010 [00:00<?, ?it/s]"
     ]
    },
    {
     "name": "stderr",
     "output_type": "stream",
     "text": [
      "WARNING:absl:No GPU/TPU found, falling back to CPU. (Set TF_CPP_MIN_LOG_LEVEL=0 and rerun for more info.)\n"
     ]
    },
    {
     "name": "stderr",
     "output_type": "stream",
     "text": [
      "\r",
      "  0%|          | 1/1010 [00:01<28:29,  1.69s/it]"
     ]
    },
    {
     "name": "stderr",
     "output_type": "stream",
     "text": [
      "\r",
      "  1%|          | 9/1010 [00:01<02:28,  6.75it/s]"
     ]
    },
    {
     "name": "stderr",
     "output_type": "stream",
     "text": [
      "\r",
      "  2%|▏         | 19/1010 [00:01<01:02, 15.97it/s]"
     ]
    },
    {
     "name": "stderr",
     "output_type": "stream",
     "text": [
      "\r",
      "  3%|▎         | 30/1010 [00:02<00:35, 27.34it/s]"
     ]
    },
    {
     "name": "stderr",
     "output_type": "stream",
     "text": [
      "\r",
      "  4%|▍         | 41/1010 [00:02<00:24, 39.32it/s]"
     ]
    },
    {
     "name": "stderr",
     "output_type": "stream",
     "text": [
      "\r",
      "  5%|▌         | 51/1010 [00:02<00:19, 49.69it/s]"
     ]
    },
    {
     "name": "stderr",
     "output_type": "stream",
     "text": [
      "\r",
      "  6%|▌         | 62/1010 [00:02<00:15, 60.84it/s]"
     ]
    },
    {
     "name": "stderr",
     "output_type": "stream",
     "text": [
      "\r",
      "  7%|▋         | 73/1010 [00:02<00:13, 70.46it/s]"
     ]
    },
    {
     "name": "stderr",
     "output_type": "stream",
     "text": [
      "\r",
      "  8%|▊         | 83/1010 [00:02<00:12, 75.45it/s]"
     ]
    },
    {
     "name": "stderr",
     "output_type": "stream",
     "text": [
      "\r",
      "  9%|▉         | 94/1010 [00:02<00:11, 82.06it/s]"
     ]
    },
    {
     "name": "stderr",
     "output_type": "stream",
     "text": [
      "\r",
      " 10%|█         | 104/1010 [00:04<00:56, 15.90it/s]"
     ]
    },
    {
     "name": "stderr",
     "output_type": "stream",
     "text": [
      "\r",
      " 11%|█▏        | 114/1010 [00:04<00:42, 21.12it/s]"
     ]
    },
    {
     "name": "stderr",
     "output_type": "stream",
     "text": [
      "\r",
      " 12%|█▏        | 125/1010 [00:04<00:31, 28.26it/s]"
     ]
    },
    {
     "name": "stderr",
     "output_type": "stream",
     "text": [
      "\r",
      " 13%|█▎        | 136/1010 [00:04<00:23, 36.59it/s]"
     ]
    },
    {
     "name": "stderr",
     "output_type": "stream",
     "text": [
      "\r",
      " 15%|█▍        | 147/1010 [00:04<00:18, 45.79it/s]"
     ]
    },
    {
     "name": "stderr",
     "output_type": "stream",
     "text": [
      "\r",
      " 16%|█▌        | 158/1010 [00:05<00:15, 55.29it/s]"
     ]
    },
    {
     "name": "stderr",
     "output_type": "stream",
     "text": [
      "\r",
      " 17%|█▋        | 169/1010 [00:05<00:13, 64.27it/s]"
     ]
    },
    {
     "name": "stderr",
     "output_type": "stream",
     "text": [
      "\r",
      " 18%|█▊        | 179/1010 [00:05<00:11, 71.49it/s]"
     ]
    },
    {
     "name": "stderr",
     "output_type": "stream",
     "text": [
      "\r",
      " 19%|█▊        | 189/1010 [00:05<00:10, 77.69it/s]"
     ]
    },
    {
     "name": "stderr",
     "output_type": "stream",
     "text": [
      "\r",
      " 20%|█▉        | 200/1010 [00:05<00:09, 84.10it/s]"
     ]
    },
    {
     "name": "stderr",
     "output_type": "stream",
     "text": [
      "\r",
      " 21%|██        | 211/1010 [00:05<00:11, 72.63it/s]"
     ]
    },
    {
     "name": "stderr",
     "output_type": "stream",
     "text": [
      "\r",
      " 22%|██▏       | 221/1010 [00:05<00:10, 78.78it/s]"
     ]
    },
    {
     "name": "stderr",
     "output_type": "stream",
     "text": [
      "\r",
      " 23%|██▎       | 232/1010 [00:05<00:09, 85.40it/s]"
     ]
    },
    {
     "name": "stderr",
     "output_type": "stream",
     "text": [
      "\r",
      " 24%|██▍       | 243/1010 [00:05<00:08, 90.23it/s]"
     ]
    },
    {
     "name": "stderr",
     "output_type": "stream",
     "text": [
      "\r",
      " 25%|██▌       | 254/1010 [00:06<00:08, 94.33it/s]"
     ]
    },
    {
     "name": "stderr",
     "output_type": "stream",
     "text": [
      "\r",
      " 26%|██▌       | 265/1010 [00:06<00:07, 97.55it/s]"
     ]
    },
    {
     "name": "stderr",
     "output_type": "stream",
     "text": [
      "\r",
      " 27%|██▋       | 276/1010 [00:06<00:07, 99.99it/s]"
     ]
    },
    {
     "name": "stderr",
     "output_type": "stream",
     "text": [
      "\r",
      " 28%|██▊       | 287/1010 [00:06<00:07, 101.03it/s]"
     ]
    },
    {
     "name": "stderr",
     "output_type": "stream",
     "text": [
      "\r",
      " 30%|██▉       | 298/1010 [00:06<00:07, 101.16it/s]"
     ]
    },
    {
     "name": "stderr",
     "output_type": "stream",
     "text": [
      "\r",
      " 31%|███       | 309/1010 [00:06<00:06, 103.37it/s]"
     ]
    },
    {
     "name": "stderr",
     "output_type": "stream",
     "text": [
      "\r",
      " 32%|███▏      | 324/1010 [00:06<00:05, 116.29it/s]"
     ]
    },
    {
     "name": "stderr",
     "output_type": "stream",
     "text": [
      "\r",
      " 34%|███▎      | 339/1010 [00:06<00:05, 125.11it/s]"
     ]
    },
    {
     "name": "stderr",
     "output_type": "stream",
     "text": [
      "\r",
      " 35%|███▌      | 355/1010 [00:06<00:04, 132.84it/s]"
     ]
    },
    {
     "name": "stderr",
     "output_type": "stream",
     "text": [
      "\r",
      " 37%|███▋      | 371/1010 [00:06<00:04, 138.57it/s]"
     ]
    },
    {
     "name": "stderr",
     "output_type": "stream",
     "text": [
      "\r",
      " 38%|███▊      | 387/1010 [00:07<00:04, 142.93it/s]"
     ]
    },
    {
     "name": "stderr",
     "output_type": "stream",
     "text": [
      "\r",
      " 40%|███▉      | 403/1010 [00:07<00:04, 145.10it/s]"
     ]
    },
    {
     "name": "stderr",
     "output_type": "stream",
     "text": [
      "\r",
      " 41%|████▏     | 418/1010 [00:07<00:04, 137.78it/s]"
     ]
    },
    {
     "name": "stderr",
     "output_type": "stream",
     "text": [
      "\r",
      " 43%|████▎     | 434/1010 [00:07<00:04, 141.90it/s]"
     ]
    },
    {
     "name": "stderr",
     "output_type": "stream",
     "text": [
      "\r",
      " 45%|████▍     | 450/1010 [00:07<00:03, 145.14it/s]"
     ]
    },
    {
     "name": "stderr",
     "output_type": "stream",
     "text": [
      "\r",
      " 46%|████▌     | 465/1010 [00:07<00:03, 146.38it/s]"
     ]
    },
    {
     "name": "stderr",
     "output_type": "stream",
     "text": [
      "\r",
      " 48%|████▊     | 480/1010 [00:07<00:03, 138.50it/s]"
     ]
    },
    {
     "name": "stderr",
     "output_type": "stream",
     "text": [
      "\r",
      " 49%|████▉     | 496/1010 [00:07<00:03, 141.87it/s]"
     ]
    },
    {
     "name": "stderr",
     "output_type": "stream",
     "text": [
      "\r",
      " 51%|█████     | 511/1010 [00:07<00:03, 139.29it/s]"
     ]
    },
    {
     "name": "stderr",
     "output_type": "stream",
     "text": [
      "\r",
      " 52%|█████▏    | 527/1010 [00:08<00:03, 143.83it/s]"
     ]
    },
    {
     "name": "stderr",
     "output_type": "stream",
     "text": [
      "\r",
      " 54%|█████▍    | 543/1010 [00:08<00:03, 146.84it/s]"
     ]
    },
    {
     "name": "stderr",
     "output_type": "stream",
     "text": [
      "\r",
      " 55%|█████▌    | 558/1010 [00:08<00:03, 147.74it/s]"
     ]
    },
    {
     "name": "stderr",
     "output_type": "stream",
     "text": [
      "\r",
      " 57%|█████▋    | 573/1010 [00:08<00:02, 147.47it/s]"
     ]
    },
    {
     "name": "stderr",
     "output_type": "stream",
     "text": [
      "\r",
      " 58%|█████▊    | 588/1010 [00:08<00:02, 147.32it/s]"
     ]
    },
    {
     "name": "stderr",
     "output_type": "stream",
     "text": [
      "\r",
      " 60%|█████▉    | 603/1010 [00:08<00:02, 146.52it/s]"
     ]
    },
    {
     "name": "stderr",
     "output_type": "stream",
     "text": [
      "\r",
      " 61%|██████    | 618/1010 [00:08<00:02, 137.26it/s]"
     ]
    },
    {
     "name": "stderr",
     "output_type": "stream",
     "text": [
      "\r",
      " 63%|██████▎   | 633/1010 [00:08<00:02, 139.03it/s]"
     ]
    },
    {
     "name": "stderr",
     "output_type": "stream",
     "text": [
      "\r",
      " 64%|██████▍   | 648/1010 [00:08<00:02, 140.84it/s]"
     ]
    },
    {
     "name": "stderr",
     "output_type": "stream",
     "text": [
      "\r",
      " 66%|██████▌   | 664/1010 [00:09<00:02, 144.08it/s]"
     ]
    },
    {
     "name": "stderr",
     "output_type": "stream",
     "text": [
      "\r",
      " 67%|██████▋   | 680/1010 [00:09<00:02, 146.64it/s]"
     ]
    },
    {
     "name": "stderr",
     "output_type": "stream",
     "text": [
      "\r",
      " 69%|██████▉   | 696/1010 [00:09<00:02, 148.30it/s]"
     ]
    },
    {
     "name": "stderr",
     "output_type": "stream",
     "text": [
      "\r",
      " 70%|███████   | 711/1010 [00:09<00:02, 146.03it/s]"
     ]
    },
    {
     "name": "stderr",
     "output_type": "stream",
     "text": [
      "\r",
      " 72%|███████▏  | 726/1010 [00:09<00:01, 146.26it/s]"
     ]
    },
    {
     "name": "stderr",
     "output_type": "stream",
     "text": [
      "\r",
      " 73%|███████▎  | 741/1010 [00:09<00:01, 147.34it/s]"
     ]
    },
    {
     "name": "stderr",
     "output_type": "stream",
     "text": [
      "\r",
      " 75%|███████▍  | 757/1010 [00:09<00:01, 149.20it/s]"
     ]
    },
    {
     "name": "stderr",
     "output_type": "stream",
     "text": [
      "\r",
      " 76%|███████▋  | 772/1010 [00:09<00:01, 148.54it/s]"
     ]
    },
    {
     "name": "stderr",
     "output_type": "stream",
     "text": [
      "\r",
      " 78%|███████▊  | 788/1010 [00:09<00:01, 149.92it/s]"
     ]
    },
    {
     "name": "stderr",
     "output_type": "stream",
     "text": [
      "\r",
      " 80%|███████▉  | 803/1010 [00:09<00:01, 149.73it/s]"
     ]
    },
    {
     "name": "stderr",
     "output_type": "stream",
     "text": [
      "\r",
      " 81%|████████  | 818/1010 [00:10<00:01, 144.24it/s]"
     ]
    },
    {
     "name": "stderr",
     "output_type": "stream",
     "text": [
      "\r",
      " 83%|████████▎ | 834/1010 [00:10<00:01, 146.96it/s]"
     ]
    },
    {
     "name": "stderr",
     "output_type": "stream",
     "text": [
      "\r",
      " 84%|████████▍ | 850/1010 [00:10<00:01, 148.72it/s]"
     ]
    },
    {
     "name": "stderr",
     "output_type": "stream",
     "text": [
      "\r",
      " 86%|████████▌ | 866/1010 [00:10<00:00, 151.33it/s]"
     ]
    },
    {
     "name": "stderr",
     "output_type": "stream",
     "text": [
      "\r",
      " 87%|████████▋ | 882/1010 [00:10<00:00, 153.11it/s]"
     ]
    },
    {
     "name": "stderr",
     "output_type": "stream",
     "text": [
      "\r",
      " 89%|████████▉ | 898/1010 [00:10<00:00, 151.98it/s]"
     ]
    },
    {
     "name": "stderr",
     "output_type": "stream",
     "text": [
      "\r",
      "100%|██████████| 1010/1010 [00:10<00:00, 94.70it/s]"
     ]
    },
    {
     "name": "stderr",
     "output_type": "stream",
     "text": [
      "\n"
     ]
    }
   ],
   "source": [
    "result = MuseResult()\n",
    "muse(result, prob, 0., α=0.7, rng=np.random.RandomState(3), gradz_logLike_atol=1e-4, progress=True, maxsteps=10);"
   ]
  },
  {
   "cell_type": "code",
   "execution_count": 12,
   "id": "96cfa179",
   "metadata": {
    "execution": {
     "iopub.execute_input": "2022-01-13T09:32:14.377582Z",
     "iopub.status.busy": "2022-01-13T09:32:14.376828Z",
     "iopub.status.idle": "2022-01-13T09:32:14.528245Z",
     "shell.execute_reply": "2022-01-13T09:32:14.528639Z"
    }
   },
   "outputs": [
    {
     "data": {
      "image/png": "[encoded data removed]",
      "text/plain": [
       "<Figure size 660x440 with 1 Axes>"
      ]
     },
     "metadata": {
      "needs_background": "light"
     },
     "output_type": "display_data"
    }
   ],
   "source": [
    "plt.plot([h[\"θ\"] for h in result.history], \".-\")\n",
    "plt.xlabel(\"step\")\n",
    "plt.ylabel(\"θ\");"
   ]
  },
  {
   "cell_type": "markdown",
   "id": "ec795e70",
   "metadata": {},
   "source": [
    "## With PyMC"
   ]
  },
  {
   "cell_type": "code",
   "execution_count": 13,
   "id": "35708728",
   "metadata": {
    "execution": {
     "iopub.execute_input": "2022-01-13T09:32:14.533164Z",
     "iopub.status.busy": "2022-01-13T09:32:14.531603Z",
     "iopub.status.idle": "2022-01-13T09:32:17.113324Z",
     "shell.execute_reply": "2022-01-13T09:32:17.112835Z"
    }
   },
   "outputs": [],
   "source": [
    "import pymc as pm\n",
    "from muse_inference.pymc import PyMCMuseProblem"
   ]
  },
  {
   "cell_type": "code",
   "execution_count": 14,
   "id": "5a13f09b",
   "metadata": {
    "execution": {
     "iopub.execute_input": "2022-01-13T09:32:17.119277Z",
     "iopub.status.busy": "2022-01-13T09:32:17.118511Z",
     "iopub.status.idle": "2022-01-13T09:33:07.283983Z",
     "shell.execute_reply": "2022-01-13T09:33:07.283523Z"
    }
   },
   "outputs": [],
   "source": [
    "def gen_funnel(x=None, θ=None):\n",
    "    with pm.Model() as funnel:\n",
    "        θ = θ if θ else pm.Normal(\"θ\", 0, 3)\n",
    "        z = pm.Normal(\"z\", 0, np.exp(θ / 2), size=512)\n",
    "        x = pm.Normal(\"x\", z, 1, observed=x)\n",
    "    return funnel\n",
    "        \n",
    "x_obs = pm.sample_prior_predictive(1, model=gen_funnel(θ=θ_true)).prior.x[0,0]\n",
    "funnel = gen_funnel(x_obs)\n",
    "prob = PyMCMuseProblem(funnel)\n",
    "prob.x = x_obs"
   ]
  },
  {
   "cell_type": "code",
   "execution_count": 15,
   "id": "fc1412c7",
   "metadata": {
    "execution": {
     "iopub.execute_input": "2022-01-13T09:33:07.302406Z",
     "iopub.status.busy": "2022-01-13T09:33:07.300260Z",
     "iopub.status.idle": "2022-01-13T09:33:38.066905Z",
     "shell.execute_reply": "2022-01-13T09:33:38.066217Z"
    }
   },
   "outputs": [
    {
     "name": "stderr",
     "output_type": "stream",
     "text": [
      "\r",
      "  0%|          | 0/1010 [00:00<?, ?it/s]"
     ]
    },
    {
     "name": "stderr",
     "output_type": "stream",
     "text": [
      "\r",
      "  9%|▊         | 87/1010 [00:00<00:01, 865.55it/s]"
     ]
    },
    {
     "name": "stderr",
     "output_type": "stream",
     "text": [
      "\r",
      " 17%|█▋        | 174/1010 [00:03<00:17, 47.57it/s]"
     ]
    },
    {
     "name": "stderr",
     "output_type": "stream",
     "text": [
      "\r",
      " 21%|██        | 212/1010 [00:06<00:28, 27.56it/s]"
     ]
    },
    {
     "name": "stderr",
     "output_type": "stream",
     "text": [
      "\r",
      " 30%|██▉       | 298/1010 [00:06<00:14, 50.08it/s]"
     ]
    },
    {
     "name": "stderr",
     "output_type": "stream",
     "text": [
      "\r",
      " 34%|███▍      | 345/1010 [00:09<00:21, 31.51it/s]"
     ]
    },
    {
     "name": "stderr",
     "output_type": "stream",
     "text": [
      "\r",
      " 40%|████      | 405/1010 [00:12<00:23, 26.30it/s]"
     ]
    },
    {
     "name": "stderr",
     "output_type": "stream",
     "text": [
      "\r",
      " 48%|████▊     | 489/1010 [00:12<00:12, 42.61it/s]"
     ]
    },
    {
     "name": "stderr",
     "output_type": "stream",
     "text": [
      "\r",
      " 53%|█████▎    | 531/1010 [00:15<00:16, 29.41it/s]"
     ]
    },
    {
     "name": "stderr",
     "output_type": "stream",
     "text": [
      "\r",
      " 60%|██████    | 607/1010 [00:18<00:14, 27.67it/s]"
     ]
    },
    {
     "name": "stderr",
     "output_type": "stream",
     "text": [
      "\r",
      " 69%|██████▉   | 697/1010 [00:18<00:07, 43.81it/s]"
     ]
    },
    {
     "name": "stderr",
     "output_type": "stream",
     "text": [
      "\r",
      " 73%|███████▎  | 739/1010 [00:21<00:08, 30.61it/s]"
     ]
    },
    {
     "name": "stderr",
     "output_type": "stream",
     "text": [
      "\r",
      " 80%|████████  | 809/1010 [00:24<00:07, 27.73it/s]"
     ]
    },
    {
     "name": "stderr",
     "output_type": "stream",
     "text": [
      "\r",
      " 89%|████████▉ | 899/1010 [00:24<00:02, 43.47it/s]"
     ]
    },
    {
     "name": "stderr",
     "output_type": "stream",
     "text": [
      "\r",
      " 93%|█████████▎| 941/1010 [00:27<00:02, 30.44it/s]"
     ]
    },
    {
     "name": "stderr",
     "output_type": "stream",
     "text": [
      "\r",
      "100%|██████████| 1010/1010 [00:27<00:00, 36.40it/s]"
     ]
    },
    {
     "name": "stderr",
     "output_type": "stream",
     "text": [
      "\n"
     ]
    }
   ],
   "source": [
    "result = MuseResult()\n",
    "muse(result, prob, 0., α=0.7, rng=np.random.RandomState(3), gradz_logLike_atol=1e-4, progress=True, maxsteps=10);"
   ]
  },
  {
   "cell_type": "code",
   "execution_count": 16,
   "id": "8e6509a7",
   "metadata": {
    "execution": {
     "iopub.execute_input": "2022-01-13T09:33:38.071074Z",
     "iopub.status.busy": "2022-01-13T09:33:38.070605Z",
     "iopub.status.idle": "2022-01-13T09:33:38.221379Z",
     "shell.execute_reply": "2022-01-13T09:33:38.222066Z"
    }
   },
   "outputs": [
    {
     "data": {
      "image/png": "[encoded data removed]",
      "text/plain": [
       "<Figure size 660x440 with 1 Axes>"
      ]
     },
     "metadata": {
      "needs_background": "light"
     },
     "output_type": "display_data"
    }
   ],
   "source": [
    "plt.plot([h[\"θ\"] for h in result.history], \".-\")\n",
    "plt.xlabel(\"step\")\n",
    "plt.ylabel(\"θ\");"
   ]
  }
 ],
 "metadata": {
  "jupytext": {
   "formats": "md,ipynb",
   "text_representation": {
    "extension": ".md",
    "format_name": "markdown",
    "format_version": "1.3",
    "jupytext_version": "1.13.6"
   }
  },
  "kernelspec": {
   "display_name": "Python 3 (ipykernel)",
   "language": "python",
   "name": "python3"
  },
  "language_info": {
   "codemirror_mode": {
    "name": "ipython",
    "version": 3
   },
   "file_extension": ".py",
   "mimetype": "text/x-python",
   "name": "python",
   "nbconvert_exporter": "python",
   "pygments_lexer": "ipython3",
   "version": "3.9.9"
  }
 },
 "nbformat": 4,
 "nbformat_minor": 5
}
