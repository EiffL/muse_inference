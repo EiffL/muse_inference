{
 "cells": [
  {
   "cell_type": "markdown",
   "id": "f13ea26b",
   "metadata": {},
   "source": [
    "# Demo"
   ]
  },
  {
   "cell_type": "code",
   "execution_count": 1,
   "id": "44f5730f",
   "metadata": {
    "execution": {
     "iopub.execute_input": "2022-01-13T23:41:40.330781Z",
     "iopub.status.busy": "2022-01-13T23:41:40.330028Z",
     "iopub.status.idle": "2022-01-13T23:41:42.763415Z",
     "shell.execute_reply": "2022-01-13T23:41:42.763952Z"
    },
    "nbsphinx": "hidden",
    "tags": []
   },
   "outputs": [],
   "source": [
    "%matplotlib inline\n",
    "import matplotlib as mpl\n",
    "mpl.rcParams['figure.dpi'] = 110\n",
    "%load_ext autoreload\n",
    "%autoreload 2\n",
    "import sys\n",
    "sys.path.append(\"..\")"
   ]
  },
  {
   "cell_type": "markdown",
   "id": "c809dbe7",
   "metadata": {},
   "source": [
    "Sample text. $\\mathcal{P}(x\\,|\\,\\theta)$"
   ]
  },
  {
   "cell_type": "code",
   "execution_count": 2,
   "id": "e132354e",
   "metadata": {
    "execution": {
     "iopub.execute_input": "2022-01-13T23:41:42.769109Z",
     "iopub.status.busy": "2022-01-13T23:41:42.768246Z",
     "iopub.status.idle": "2022-01-13T23:41:42.953991Z",
     "shell.execute_reply": "2022-01-13T23:41:42.954575Z"
    }
   },
   "outputs": [],
   "source": [
    "import matplotlib.pyplot as plt\n",
    "from muse_inference import muse, MuseProblem, MuseResult\n",
    "import numpy as np"
   ]
  },
  {
   "cell_type": "code",
   "execution_count": 3,
   "id": "473e6abe",
   "metadata": {
    "execution": {
     "iopub.execute_input": "2022-01-13T23:41:42.960003Z",
     "iopub.status.busy": "2022-01-13T23:41:42.958837Z",
     "iopub.status.idle": "2022-01-13T23:41:42.973563Z",
     "shell.execute_reply": "2022-01-13T23:41:42.972514Z"
    }
   },
   "outputs": [],
   "source": [
    "θ_true = 1"
   ]
  },
  {
   "cell_type": "markdown",
   "id": "97596b7a",
   "metadata": {
    "incorrectly_encoded_metadata": "jp-MarkdownHeadingCollapsed=true",
    "tags": []
   },
   "source": [
    "## With numpy"
   ]
  },
  {
   "cell_type": "code",
   "execution_count": 4,
   "id": "439e5057",
   "metadata": {
    "execution": {
     "iopub.execute_input": "2022-01-13T23:41:42.981931Z",
     "iopub.status.busy": "2022-01-13T23:41:42.981181Z",
     "iopub.status.idle": "2022-01-13T23:41:42.995266Z",
     "shell.execute_reply": "2022-01-13T23:41:42.994593Z"
    }
   },
   "outputs": [],
   "source": [
    "class NumpyFunnelMuseProblem(MuseProblem):\n",
    "    \n",
    "    def __init__(self, N):\n",
    "        self.N = N\n",
    "    \n",
    "    def sample_x_z(self, rng, θ):\n",
    "        z = rng.randn(self.N) * np.exp(θ/2)\n",
    "        x = z + rng.randn(self.N)\n",
    "        return (x, z)\n",
    "    \n",
    "    def gradθ_logLike(self, x, z, θ):\n",
    "        return np.sum(z**2)/(2*np.exp(θ)) - self.N/2\n",
    "    \n",
    "    def logLike_and_gradz_logLike(self, x, z, θ):\n",
    "        logLike = -(np.sum((x - z)**2) + np.sum(z**2) / np.exp(θ) + 512*θ) / 2\n",
    "        gradz_logLike = x - z * (1 + np.exp(-θ))\n",
    "        return (logLike, gradz_logLike)\n",
    "    \n",
    "    def grad_hess_θ_logPrior(self, θ):\n",
    "        return (-θ/(3**2), -1/3**2)\n",
    "    "
   ]
  },
  {
   "cell_type": "code",
   "execution_count": 5,
   "id": "dc84601a",
   "metadata": {
    "execution": {
     "iopub.execute_input": "2022-01-13T23:41:43.000603Z",
     "iopub.status.busy": "2022-01-13T23:41:42.999977Z",
     "iopub.status.idle": "2022-01-13T23:41:43.013800Z",
     "shell.execute_reply": "2022-01-13T23:41:43.014282Z"
    }
   },
   "outputs": [],
   "source": [
    "prob = NumpyFunnelMuseProblem(512)\n",
    "rng = np.random.RandomState(0)\n",
    "(x, z) = prob.sample_x_z(rng, θ_true)\n",
    "prob.x = x"
   ]
  },
  {
   "cell_type": "code",
   "execution_count": 6,
   "id": "8ca09e29",
   "metadata": {
    "execution": {
     "iopub.execute_input": "2022-01-13T23:41:43.018963Z",
     "iopub.status.busy": "2022-01-13T23:41:43.018334Z",
     "iopub.status.idle": "2022-01-13T23:41:44.380053Z",
     "shell.execute_reply": "2022-01-13T23:41:44.380569Z"
    }
   },
   "outputs": [
    {
     "name": "stderr",
     "output_type": "stream",
     "text": [
      "\r",
      "  0%|          | 0/1010 [00:00<?, ?it/s]"
     ]
    },
    {
     "name": "stderr",
     "output_type": "stream",
     "text": [
      "\r",
      "  7%|▋         | 67/1010 [00:00<00:01, 666.94it/s]"
     ]
    },
    {
     "name": "stderr",
     "output_type": "stream",
     "text": [
      "\r",
      " 13%|█▎        | 134/1010 [00:00<00:01, 652.68it/s]"
     ]
    },
    {
     "name": "stderr",
     "output_type": "stream",
     "text": [
      "\r",
      " 20%|██        | 202/1010 [00:00<00:01, 663.63it/s]"
     ]
    },
    {
     "name": "stderr",
     "output_type": "stream",
     "text": [
      "\r",
      " 27%|██▋       | 271/1010 [00:00<00:01, 672.94it/s]"
     ]
    },
    {
     "name": "stderr",
     "output_type": "stream",
     "text": [
      "\r",
      " 34%|███▎      | 339/1010 [00:00<00:00, 671.87it/s]"
     ]
    },
    {
     "name": "stderr",
     "output_type": "stream",
     "text": [
      "\r",
      " 40%|████      | 407/1010 [00:00<00:00, 662.60it/s]"
     ]
    },
    {
     "name": "stderr",
     "output_type": "stream",
     "text": [
      "\r",
      " 48%|████▊     | 482/1010 [00:00<00:00, 689.23it/s]"
     ]
    },
    {
     "name": "stderr",
     "output_type": "stream",
     "text": [
      "\r",
      " 55%|█████▍    | 552/1010 [00:00<00:00, 691.08it/s]"
     ]
    },
    {
     "name": "stderr",
     "output_type": "stream",
     "text": [
      "\r",
      " 62%|██████▏   | 622/1010 [00:00<00:00, 687.71it/s]"
     ]
    },
    {
     "name": "stderr",
     "output_type": "stream",
     "text": [
      "\r",
      " 69%|██████▉   | 696/1010 [00:01<00:00, 702.84it/s]"
     ]
    },
    {
     "name": "stderr",
     "output_type": "stream",
     "text": [
      "\r",
      " 76%|███████▌  | 767/1010 [00:01<00:00, 701.57it/s]"
     ]
    },
    {
     "name": "stderr",
     "output_type": "stream",
     "text": [
      "\r",
      " 83%|████████▎ | 838/1010 [00:01<00:00, 697.72it/s]"
     ]
    },
    {
     "name": "stderr",
     "output_type": "stream",
     "text": [
      "\r",
      "100%|██████████| 1010/1010 [00:01<00:00, 995.11it/s]"
     ]
    },
    {
     "name": "stderr",
     "output_type": "stream",
     "text": [
      "\r",
      "100%|██████████| 1010/1010 [00:01<00:00, 762.06it/s]"
     ]
    },
    {
     "name": "stderr",
     "output_type": "stream",
     "text": [
      "\n"
     ]
    }
   ],
   "source": [
    "result = MuseResult()\n",
    "muse(result, prob, 0, α=0.7, rng=np.random.RandomState(3), gradz_logLike_atol=1e-4, progress=True, maxsteps=10);"
   ]
  },
  {
   "cell_type": "code",
   "execution_count": 7,
   "id": "aef4d9ac",
   "metadata": {
    "execution": {
     "iopub.execute_input": "2022-01-13T23:41:44.385867Z",
     "iopub.status.busy": "2022-01-13T23:41:44.384736Z",
     "iopub.status.idle": "2022-01-13T23:41:44.619586Z",
     "shell.execute_reply": "2022-01-13T23:41:44.618627Z"
    }
   },
   "outputs": [
    {
     "data": {
      "image/png": "[encoded data removed]",
      "text/plain": [
       "<Figure size 660x440 with 1 Axes>"
      ]
     },
     "metadata": {
      "needs_background": "light"
     },
     "output_type": "display_data"
    }
   ],
   "source": [
    "plt.plot([h[\"θ\"] for h in result.history], \".-\")\n",
    "plt.xlabel(\"step\")\n",
    "plt.ylabel(\"θ\");"
   ]
  },
  {
   "cell_type": "markdown",
   "id": "f7ab4618",
   "metadata": {
    "incorrectly_encoded_metadata": "jp-MarkdownHeadingCollapsed=true",
    "tags": []
   },
   "source": [
    "## With Jax"
   ]
  },
  {
   "cell_type": "code",
   "execution_count": 8,
   "id": "21b9fbc4",
   "metadata": {
    "execution": {
     "iopub.execute_input": "2022-01-13T23:41:44.624331Z",
     "iopub.status.busy": "2022-01-13T23:41:44.623651Z",
     "iopub.status.idle": "2022-01-13T23:41:45.193925Z",
     "shell.execute_reply": "2022-01-13T23:41:45.193373Z"
    }
   },
   "outputs": [],
   "source": [
    "import jax\n",
    "import jax.numpy as jnp\n",
    "from muse_inference.jax import JittedJaxMuseProblem"
   ]
  },
  {
   "cell_type": "code",
   "execution_count": 9,
   "id": "43c1ae52",
   "metadata": {
    "execution": {
     "iopub.execute_input": "2022-01-13T23:41:45.201851Z",
     "iopub.status.busy": "2022-01-13T23:41:45.201188Z",
     "iopub.status.idle": "2022-01-13T23:41:45.218758Z",
     "shell.execute_reply": "2022-01-13T23:41:45.218116Z"
    }
   },
   "outputs": [],
   "source": [
    "class JaxFunnelMuseProblem(JittedJaxMuseProblem):\n",
    "    \n",
    "    def __init__(self, N):\n",
    "        self.N = N\n",
    "\n",
    "    def sample_x_z(self, rng, θ):\n",
    "        z = rng.randn(self.N) * np.exp(θ/2)\n",
    "        x = z + rng.randn(self.N)\n",
    "        return (x, z)\n",
    "\n",
    "    def logLike(self, x, z, θ):\n",
    "        return -(jnp.sum((x - z)**2) + jnp.sum(z**2) / jnp.exp(θ) + 512*θ) / 2\n",
    "    \n",
    "    def logPrior(self, θ):\n",
    "        return -θ**2 / (2*3**2)\n",
    "    "
   ]
  },
  {
   "cell_type": "code",
   "execution_count": 10,
   "id": "98dc06a2",
   "metadata": {
    "execution": {
     "iopub.execute_input": "2022-01-13T23:41:45.223442Z",
     "iopub.status.busy": "2022-01-13T23:41:45.222736Z",
     "iopub.status.idle": "2022-01-13T23:41:45.244010Z",
     "shell.execute_reply": "2022-01-13T23:41:45.242891Z"
    }
   },
   "outputs": [],
   "source": [
    "prob = JaxFunnelMuseProblem(512)\n",
    "rng = np.random.RandomState(0)\n",
    "(x, z) = prob.sample_x_z(rng, θ_true)\n",
    "prob.x = x"
   ]
  },
  {
   "cell_type": "code",
   "execution_count": 11,
   "id": "df0a5af7",
   "metadata": {
    "execution": {
     "iopub.execute_input": "2022-01-13T23:41:45.249078Z",
     "iopub.status.busy": "2022-01-13T23:41:45.248456Z",
     "iopub.status.idle": "2022-01-13T23:42:07.815523Z",
     "shell.execute_reply": "2022-01-13T23:42:07.816032Z"
    }
   },
   "outputs": [
    {
     "name": "stderr",
     "output_type": "stream",
     "text": [
      "\r",
      "  0%|          | 0/1010 [00:00<?, ?it/s]"
     ]
    },
    {
     "name": "stderr",
     "output_type": "stream",
     "text": [
      "WARNING:absl:No GPU/TPU found, falling back to CPU. (Set TF_CPP_MIN_LOG_LEVEL=0 and rerun for more info.)\n"
     ]
    },
    {
     "name": "stderr",
     "output_type": "stream",
     "text": [
      "\r",
      "  0%|          | 1/1010 [00:02<39:59,  2.38s/it]"
     ]
    },
    {
     "name": "stderr",
     "output_type": "stream",
     "text": [
      "\r",
      "  0%|          | 5/1010 [00:02<06:21,  2.63it/s]"
     ]
    },
    {
     "name": "stderr",
     "output_type": "stream",
     "text": [
      "\r",
      "  1%|          | 10/1010 [00:02<02:45,  6.04it/s]"
     ]
    },
    {
     "name": "stderr",
     "output_type": "stream",
     "text": [
      "\r",
      "  1%|▏         | 15/1010 [00:02<01:39,  9.98it/s]"
     ]
    },
    {
     "name": "stderr",
     "output_type": "stream",
     "text": [
      "\r",
      "  2%|▏         | 19/1010 [00:02<01:14, 13.37it/s]"
     ]
    },
    {
     "name": "stderr",
     "output_type": "stream",
     "text": [
      "\r",
      "  2%|▏         | 23/1010 [00:02<00:59, 16.66it/s]"
     ]
    },
    {
     "name": "stderr",
     "output_type": "stream",
     "text": [
      "\r",
      "  3%|▎         | 27/1010 [00:03<00:48, 20.30it/s]"
     ]
    },
    {
     "name": "stderr",
     "output_type": "stream",
     "text": [
      "\r",
      "  3%|▎         | 31/1010 [00:03<00:41, 23.75it/s]"
     ]
    },
    {
     "name": "stderr",
     "output_type": "stream",
     "text": [
      "\r",
      "  3%|▎         | 35/1010 [00:03<00:36, 26.60it/s]"
     ]
    },
    {
     "name": "stderr",
     "output_type": "stream",
     "text": [
      "\r",
      "  4%|▍         | 39/1010 [00:03<00:32, 29.53it/s]"
     ]
    },
    {
     "name": "stderr",
     "output_type": "stream",
     "text": [
      "\r",
      "  4%|▍         | 43/1010 [00:03<00:30, 31.60it/s]"
     ]
    },
    {
     "name": "stderr",
     "output_type": "stream",
     "text": [
      "\r",
      "  5%|▍         | 47/1010 [00:03<00:28, 33.47it/s]"
     ]
    },
    {
     "name": "stderr",
     "output_type": "stream",
     "text": [
      "\r",
      "  5%|▌         | 52/1010 [00:03<00:26, 35.54it/s]"
     ]
    },
    {
     "name": "stderr",
     "output_type": "stream",
     "text": [
      "\r",
      "  6%|▌         | 57/1010 [00:03<00:25, 37.40it/s]"
     ]
    },
    {
     "name": "stderr",
     "output_type": "stream",
     "text": [
      "\r",
      "  6%|▌         | 62/1010 [00:03<00:24, 38.64it/s]"
     ]
    },
    {
     "name": "stderr",
     "output_type": "stream",
     "text": [
      "\r",
      "  7%|▋         | 67/1010 [00:04<00:23, 39.44it/s]"
     ]
    },
    {
     "name": "stderr",
     "output_type": "stream",
     "text": [
      "\r",
      "  7%|▋         | 72/1010 [00:04<00:23, 39.88it/s]"
     ]
    },
    {
     "name": "stderr",
     "output_type": "stream",
     "text": [
      "\r",
      "  8%|▊         | 77/1010 [00:04<00:24, 38.43it/s]"
     ]
    },
    {
     "name": "stderr",
     "output_type": "stream",
     "text": [
      "\r",
      "  8%|▊         | 82/1010 [00:04<00:23, 38.68it/s]"
     ]
    },
    {
     "name": "stderr",
     "output_type": "stream",
     "text": [
      "\r",
      "  9%|▊         | 87/1010 [00:04<00:23, 39.42it/s]"
     ]
    },
    {
     "name": "stderr",
     "output_type": "stream",
     "text": [
      "\r",
      "  9%|▉         | 92/1010 [00:04<00:23, 39.78it/s]"
     ]
    },
    {
     "name": "stderr",
     "output_type": "stream",
     "text": [
      "\r",
      " 10%|▉         | 97/1010 [00:04<00:22, 40.33it/s]"
     ]
    },
    {
     "name": "stderr",
     "output_type": "stream",
     "text": [
      "\r",
      " 10%|█         | 102/1010 [00:07<02:35,  5.82it/s]"
     ]
    },
    {
     "name": "stderr",
     "output_type": "stream",
     "text": [
      "\r",
      " 10%|█         | 106/1010 [00:07<02:01,  7.44it/s]"
     ]
    },
    {
     "name": "stderr",
     "output_type": "stream",
     "text": [
      "\r",
      " 11%|█         | 111/1010 [00:07<01:29, 10.02it/s]"
     ]
    },
    {
     "name": "stderr",
     "output_type": "stream",
     "text": [
      "\r",
      " 11%|█▏        | 116/1010 [00:07<01:08, 13.09it/s]"
     ]
    },
    {
     "name": "stderr",
     "output_type": "stream",
     "text": [
      "\r",
      " 12%|█▏        | 121/1010 [00:07<00:53, 16.57it/s]"
     ]
    },
    {
     "name": "stderr",
     "output_type": "stream",
     "text": [
      "\r",
      " 12%|█▏        | 126/1010 [00:07<00:43, 20.24it/s]"
     ]
    },
    {
     "name": "stderr",
     "output_type": "stream",
     "text": [
      "\r",
      " 13%|█▎        | 131/1010 [00:08<00:36, 24.02it/s]"
     ]
    },
    {
     "name": "stderr",
     "output_type": "stream",
     "text": [
      "\r",
      " 13%|█▎        | 136/1010 [00:08<00:32, 27.25it/s]"
     ]
    },
    {
     "name": "stderr",
     "output_type": "stream",
     "text": [
      "\r",
      " 14%|█▍        | 141/1010 [00:08<00:28, 30.49it/s]"
     ]
    },
    {
     "name": "stderr",
     "output_type": "stream",
     "text": [
      "\r",
      " 14%|█▍        | 146/1010 [00:08<00:26, 33.19it/s]"
     ]
    },
    {
     "name": "stderr",
     "output_type": "stream",
     "text": [
      "\r",
      " 15%|█▍        | 151/1010 [00:08<00:24, 35.40it/s]"
     ]
    },
    {
     "name": "stderr",
     "output_type": "stream",
     "text": [
      "\r",
      " 15%|█▌        | 156/1010 [00:08<00:23, 36.63it/s]"
     ]
    },
    {
     "name": "stderr",
     "output_type": "stream",
     "text": [
      "\r",
      " 16%|█▌        | 161/1010 [00:08<00:22, 37.28it/s]"
     ]
    },
    {
     "name": "stderr",
     "output_type": "stream",
     "text": [
      "\r",
      " 16%|█▋        | 166/1010 [00:08<00:21, 38.62it/s]"
     ]
    },
    {
     "name": "stderr",
     "output_type": "stream",
     "text": [
      "\r",
      " 17%|█▋        | 171/1010 [00:09<00:21, 39.73it/s]"
     ]
    },
    {
     "name": "stderr",
     "output_type": "stream",
     "text": [
      "\r",
      " 17%|█▋        | 176/1010 [00:09<00:21, 39.32it/s]"
     ]
    },
    {
     "name": "stderr",
     "output_type": "stream",
     "text": [
      "\r",
      " 18%|█▊        | 181/1010 [00:09<00:21, 39.10it/s]"
     ]
    },
    {
     "name": "stderr",
     "output_type": "stream",
     "text": [
      "\r",
      " 18%|█▊        | 186/1010 [00:09<00:20, 39.97it/s]"
     ]
    },
    {
     "name": "stderr",
     "output_type": "stream",
     "text": [
      "\r",
      " 19%|█▉        | 191/1010 [00:09<00:20, 40.21it/s]"
     ]
    },
    {
     "name": "stderr",
     "output_type": "stream",
     "text": [
      "\r",
      " 19%|█▉        | 196/1010 [00:09<00:19, 40.74it/s]"
     ]
    },
    {
     "name": "stderr",
     "output_type": "stream",
     "text": [
      "\r",
      " 20%|█▉        | 201/1010 [00:09<00:19, 40.95it/s]"
     ]
    },
    {
     "name": "stderr",
     "output_type": "stream",
     "text": [
      "\r",
      " 20%|██        | 206/1010 [00:10<00:23, 33.66it/s]"
     ]
    },
    {
     "name": "stderr",
     "output_type": "stream",
     "text": [
      "\r",
      " 21%|██        | 211/1010 [00:10<00:22, 35.75it/s]"
     ]
    },
    {
     "name": "stderr",
     "output_type": "stream",
     "text": [
      "\r",
      " 21%|██▏       | 216/1010 [00:10<00:21, 37.49it/s]"
     ]
    },
    {
     "name": "stderr",
     "output_type": "stream",
     "text": [
      "\r",
      " 22%|██▏       | 221/1010 [00:10<00:20, 38.57it/s]"
     ]
    },
    {
     "name": "stderr",
     "output_type": "stream",
     "text": [
      "\r",
      " 22%|██▏       | 226/1010 [00:10<00:19, 39.46it/s]"
     ]
    },
    {
     "name": "stderr",
     "output_type": "stream",
     "text": [
      "\r",
      " 23%|██▎       | 231/1010 [00:10<00:19, 39.93it/s]"
     ]
    },
    {
     "name": "stderr",
     "output_type": "stream",
     "text": [
      "\r",
      " 23%|██▎       | 236/1010 [00:10<00:19, 39.71it/s]"
     ]
    },
    {
     "name": "stderr",
     "output_type": "stream",
     "text": [
      "\r",
      " 24%|██▍       | 241/1010 [00:10<00:19, 39.09it/s]"
     ]
    },
    {
     "name": "stderr",
     "output_type": "stream",
     "text": [
      "\r",
      " 24%|██▍       | 246/1010 [00:11<00:19, 39.71it/s]"
     ]
    },
    {
     "name": "stderr",
     "output_type": "stream",
     "text": [
      "\r",
      " 25%|██▍       | 251/1010 [00:11<00:18, 40.22it/s]"
     ]
    },
    {
     "name": "stderr",
     "output_type": "stream",
     "text": [
      "\r",
      " 25%|██▌       | 256/1010 [00:11<00:18, 40.30it/s]"
     ]
    },
    {
     "name": "stderr",
     "output_type": "stream",
     "text": [
      "\r",
      " 26%|██▌       | 261/1010 [00:11<00:18, 40.48it/s]"
     ]
    },
    {
     "name": "stderr",
     "output_type": "stream",
     "text": [
      "\r",
      " 26%|██▋       | 266/1010 [00:11<00:18, 40.81it/s]"
     ]
    },
    {
     "name": "stderr",
     "output_type": "stream",
     "text": [
      "\r",
      " 27%|██▋       | 271/1010 [00:11<00:18, 40.67it/s]"
     ]
    },
    {
     "name": "stderr",
     "output_type": "stream",
     "text": [
      "\r",
      " 27%|██▋       | 276/1010 [00:11<00:17, 41.00it/s]"
     ]
    },
    {
     "name": "stderr",
     "output_type": "stream",
     "text": [
      "\r",
      " 28%|██▊       | 281/1010 [00:11<00:18, 40.41it/s]"
     ]
    },
    {
     "name": "stderr",
     "output_type": "stream",
     "text": [
      "\r",
      " 28%|██▊       | 286/1010 [00:12<00:17, 40.43it/s]"
     ]
    },
    {
     "name": "stderr",
     "output_type": "stream",
     "text": [
      "\r",
      " 29%|██▉       | 291/1010 [00:12<00:17, 41.03it/s]"
     ]
    },
    {
     "name": "stderr",
     "output_type": "stream",
     "text": [
      "\r",
      " 29%|██▉       | 296/1010 [00:12<00:17, 41.44it/s]"
     ]
    },
    {
     "name": "stderr",
     "output_type": "stream",
     "text": [
      "\r",
      " 30%|██▉       | 301/1010 [00:12<00:16, 41.72it/s]"
     ]
    },
    {
     "name": "stderr",
     "output_type": "stream",
     "text": [
      "\r",
      " 30%|███       | 306/1010 [00:12<00:16, 43.04it/s]"
     ]
    },
    {
     "name": "stderr",
     "output_type": "stream",
     "text": [
      "\r",
      " 31%|███       | 313/1010 [00:12<00:14, 48.69it/s]"
     ]
    },
    {
     "name": "stderr",
     "output_type": "stream",
     "text": [
      "\r",
      " 32%|███▏      | 320/1010 [00:12<00:13, 52.96it/s]"
     ]
    },
    {
     "name": "stderr",
     "output_type": "stream",
     "text": [
      "\r",
      " 32%|███▏      | 327/1010 [00:12<00:12, 55.65it/s]"
     ]
    },
    {
     "name": "stderr",
     "output_type": "stream",
     "text": [
      "\r",
      " 33%|███▎      | 333/1010 [00:12<00:12, 54.03it/s]"
     ]
    },
    {
     "name": "stderr",
     "output_type": "stream",
     "text": [
      "\r",
      " 34%|███▎      | 339/1010 [00:13<00:12, 52.03it/s]"
     ]
    },
    {
     "name": "stderr",
     "output_type": "stream",
     "text": [
      "\r",
      " 34%|███▍      | 345/1010 [00:13<00:12, 53.52it/s]"
     ]
    },
    {
     "name": "stderr",
     "output_type": "stream",
     "text": [
      "\r",
      " 35%|███▍      | 352/1010 [00:13<00:11, 55.85it/s]"
     ]
    },
    {
     "name": "stderr",
     "output_type": "stream",
     "text": [
      "\r",
      " 35%|███▌      | 358/1010 [00:13<00:11, 56.90it/s]"
     ]
    },
    {
     "name": "stderr",
     "output_type": "stream",
     "text": [
      "\r",
      " 36%|███▌      | 365/1010 [00:13<00:11, 58.55it/s]"
     ]
    },
    {
     "name": "stderr",
     "output_type": "stream",
     "text": [
      "\r",
      " 37%|███▋      | 372/1010 [00:13<00:10, 59.77it/s]"
     ]
    },
    {
     "name": "stderr",
     "output_type": "stream",
     "text": [
      "\r",
      " 38%|███▊      | 379/1010 [00:13<00:10, 60.80it/s]"
     ]
    },
    {
     "name": "stderr",
     "output_type": "stream",
     "text": [
      "\r",
      " 38%|███▊      | 386/1010 [00:13<00:10, 60.58it/s]"
     ]
    },
    {
     "name": "stderr",
     "output_type": "stream",
     "text": [
      "\r",
      " 39%|███▉      | 393/1010 [00:13<00:10, 58.44it/s]"
     ]
    },
    {
     "name": "stderr",
     "output_type": "stream",
     "text": [
      "\r",
      " 40%|███▉      | 400/1010 [00:14<00:10, 59.66it/s]"
     ]
    },
    {
     "name": "stderr",
     "output_type": "stream",
     "text": [
      "\r",
      " 40%|████      | 406/1010 [00:14<00:10, 59.13it/s]"
     ]
    },
    {
     "name": "stderr",
     "output_type": "stream",
     "text": [
      "\r",
      " 41%|████      | 412/1010 [00:14<00:10, 58.34it/s]"
     ]
    },
    {
     "name": "stderr",
     "output_type": "stream",
     "text": [
      "\r",
      " 41%|████▏     | 419/1010 [00:14<00:09, 59.19it/s]"
     ]
    },
    {
     "name": "stderr",
     "output_type": "stream",
     "text": [
      "\r",
      " 42%|████▏     | 426/1010 [00:14<00:09, 60.08it/s]"
     ]
    },
    {
     "name": "stderr",
     "output_type": "stream",
     "text": [
      "\r",
      " 43%|████▎     | 433/1010 [00:14<00:09, 61.05it/s]"
     ]
    },
    {
     "name": "stderr",
     "output_type": "stream",
     "text": [
      "\r",
      " 44%|████▎     | 440/1010 [00:14<00:09, 61.49it/s]"
     ]
    },
    {
     "name": "stderr",
     "output_type": "stream",
     "text": [
      "\r",
      " 44%|████▍     | 447/1010 [00:14<00:09, 60.50it/s]"
     ]
    },
    {
     "name": "stderr",
     "output_type": "stream",
     "text": [
      "\r",
      " 45%|████▍     | 454/1010 [00:14<00:09, 60.66it/s]"
     ]
    },
    {
     "name": "stderr",
     "output_type": "stream",
     "text": [
      "\r",
      " 46%|████▌     | 461/1010 [00:15<00:09, 60.27it/s]"
     ]
    },
    {
     "name": "stderr",
     "output_type": "stream",
     "text": [
      "\r",
      " 46%|████▋     | 468/1010 [00:15<00:08, 60.41it/s]"
     ]
    },
    {
     "name": "stderr",
     "output_type": "stream",
     "text": [
      "\r",
      " 47%|████▋     | 475/1010 [00:15<00:08, 60.62it/s]"
     ]
    },
    {
     "name": "stderr",
     "output_type": "stream",
     "text": [
      "\r",
      " 48%|████▊     | 482/1010 [00:15<00:08, 61.22it/s]"
     ]
    },
    {
     "name": "stderr",
     "output_type": "stream",
     "text": [
      "\r",
      " 48%|████▊     | 489/1010 [00:15<00:08, 61.36it/s]"
     ]
    },
    {
     "name": "stderr",
     "output_type": "stream",
     "text": [
      "\r",
      " 49%|████▉     | 496/1010 [00:15<00:08, 62.08it/s]"
     ]
    },
    {
     "name": "stderr",
     "output_type": "stream",
     "text": [
      "\r",
      " 50%|████▉     | 503/1010 [00:15<00:08, 62.65it/s]"
     ]
    },
    {
     "name": "stderr",
     "output_type": "stream",
     "text": [
      "\r",
      " 50%|█████     | 510/1010 [00:15<00:08, 58.38it/s]"
     ]
    },
    {
     "name": "stderr",
     "output_type": "stream",
     "text": [
      "\r",
      " 51%|█████     | 516/1010 [00:15<00:08, 58.41it/s]"
     ]
    },
    {
     "name": "stderr",
     "output_type": "stream",
     "text": [
      "\r",
      " 52%|█████▏    | 522/1010 [00:16<00:08, 56.27it/s]"
     ]
    },
    {
     "name": "stderr",
     "output_type": "stream",
     "text": [
      "\r",
      " 52%|█████▏    | 528/1010 [00:16<00:08, 56.76it/s]"
     ]
    },
    {
     "name": "stderr",
     "output_type": "stream",
     "text": [
      "\r",
      " 53%|█████▎    | 534/1010 [00:16<00:08, 55.65it/s]"
     ]
    },
    {
     "name": "stderr",
     "output_type": "stream",
     "text": [
      "\r",
      " 53%|█████▎    | 540/1010 [00:16<00:08, 55.23it/s]"
     ]
    },
    {
     "name": "stderr",
     "output_type": "stream",
     "text": [
      "\r",
      " 54%|█████▍    | 546/1010 [00:16<00:08, 56.45it/s]"
     ]
    },
    {
     "name": "stderr",
     "output_type": "stream",
     "text": [
      "\r",
      " 55%|█████▍    | 553/1010 [00:16<00:07, 58.25it/s]"
     ]
    },
    {
     "name": "stderr",
     "output_type": "stream",
     "text": [
      "\r",
      " 55%|█████▌    | 560/1010 [00:16<00:07, 59.81it/s]"
     ]
    },
    {
     "name": "stderr",
     "output_type": "stream",
     "text": [
      "\r",
      " 56%|█████▌    | 566/1010 [00:16<00:07, 59.15it/s]"
     ]
    },
    {
     "name": "stderr",
     "output_type": "stream",
     "text": [
      "\r",
      " 57%|█████▋    | 573/1010 [00:16<00:07, 60.29it/s]"
     ]
    },
    {
     "name": "stderr",
     "output_type": "stream",
     "text": [
      "\r",
      " 57%|█████▋    | 580/1010 [00:17<00:07, 59.68it/s]"
     ]
    },
    {
     "name": "stderr",
     "output_type": "stream",
     "text": [
      "\r",
      " 58%|█████▊    | 587/1010 [00:17<00:07, 60.32it/s]"
     ]
    },
    {
     "name": "stderr",
     "output_type": "stream",
     "text": [
      "\r",
      " 59%|█████▉    | 594/1010 [00:17<00:06, 61.17it/s]"
     ]
    },
    {
     "name": "stderr",
     "output_type": "stream",
     "text": [
      "\r",
      " 60%|█████▉    | 601/1010 [00:17<00:06, 61.32it/s]"
     ]
    },
    {
     "name": "stderr",
     "output_type": "stream",
     "text": [
      "\r",
      " 60%|██████    | 608/1010 [00:17<00:06, 60.76it/s]"
     ]
    },
    {
     "name": "stderr",
     "output_type": "stream",
     "text": [
      "\r",
      " 61%|██████    | 615/1010 [00:17<00:06, 61.75it/s]"
     ]
    },
    {
     "name": "stderr",
     "output_type": "stream",
     "text": [
      "\r",
      " 62%|██████▏   | 622/1010 [00:17<00:06, 62.48it/s]"
     ]
    },
    {
     "name": "stderr",
     "output_type": "stream",
     "text": [
      "\r",
      " 62%|██████▏   | 629/1010 [00:17<00:06, 62.01it/s]"
     ]
    },
    {
     "name": "stderr",
     "output_type": "stream",
     "text": [
      "\r",
      " 63%|██████▎   | 636/1010 [00:17<00:05, 62.50it/s]"
     ]
    },
    {
     "name": "stderr",
     "output_type": "stream",
     "text": [
      "\r",
      " 64%|██████▎   | 643/1010 [00:18<00:06, 60.76it/s]"
     ]
    },
    {
     "name": "stderr",
     "output_type": "stream",
     "text": [
      "\r",
      " 64%|██████▍   | 650/1010 [00:18<00:05, 60.92it/s]"
     ]
    },
    {
     "name": "stderr",
     "output_type": "stream",
     "text": [
      "\r",
      " 65%|██████▌   | 657/1010 [00:18<00:05, 61.21it/s]"
     ]
    },
    {
     "name": "stderr",
     "output_type": "stream",
     "text": [
      "\r",
      " 66%|██████▌   | 664/1010 [00:18<00:05, 60.96it/s]"
     ]
    },
    {
     "name": "stderr",
     "output_type": "stream",
     "text": [
      "\r",
      " 66%|██████▋   | 671/1010 [00:18<00:05, 61.50it/s]"
     ]
    },
    {
     "name": "stderr",
     "output_type": "stream",
     "text": [
      "\r",
      " 67%|██████▋   | 678/1010 [00:18<00:05, 61.55it/s]"
     ]
    },
    {
     "name": "stderr",
     "output_type": "stream",
     "text": [
      "\r",
      " 68%|██████▊   | 685/1010 [00:18<00:05, 61.83it/s]"
     ]
    },
    {
     "name": "stderr",
     "output_type": "stream",
     "text": [
      "\r",
      " 69%|██████▊   | 692/1010 [00:18<00:05, 61.17it/s]"
     ]
    },
    {
     "name": "stderr",
     "output_type": "stream",
     "text": [
      "\r",
      " 69%|██████▉   | 699/1010 [00:19<00:05, 61.04it/s]"
     ]
    },
    {
     "name": "stderr",
     "output_type": "stream",
     "text": [
      "\r",
      " 70%|██████▉   | 706/1010 [00:19<00:04, 60.96it/s]"
     ]
    },
    {
     "name": "stderr",
     "output_type": "stream",
     "text": [
      "\r",
      " 71%|███████   | 713/1010 [00:19<00:04, 59.55it/s]"
     ]
    },
    {
     "name": "stderr",
     "output_type": "stream",
     "text": [
      "\r",
      " 71%|███████▏  | 720/1010 [00:19<00:04, 59.77it/s]"
     ]
    },
    {
     "name": "stderr",
     "output_type": "stream",
     "text": [
      "\r",
      " 72%|███████▏  | 726/1010 [00:19<00:04, 59.06it/s]"
     ]
    },
    {
     "name": "stderr",
     "output_type": "stream",
     "text": [
      "\r",
      " 72%|███████▏  | 732/1010 [00:19<00:04, 58.30it/s]"
     ]
    },
    {
     "name": "stderr",
     "output_type": "stream",
     "text": [
      "\r",
      " 73%|███████▎  | 738/1010 [00:19<00:04, 57.86it/s]"
     ]
    },
    {
     "name": "stderr",
     "output_type": "stream",
     "text": [
      "\r",
      " 74%|███████▍  | 745/1010 [00:19<00:04, 58.61it/s]"
     ]
    },
    {
     "name": "stderr",
     "output_type": "stream",
     "text": [
      "\r",
      " 74%|███████▍  | 751/1010 [00:19<00:04, 58.91it/s]"
     ]
    },
    {
     "name": "stderr",
     "output_type": "stream",
     "text": [
      "\r",
      " 75%|███████▌  | 758/1010 [00:20<00:04, 59.78it/s]"
     ]
    },
    {
     "name": "stderr",
     "output_type": "stream",
     "text": [
      "\r",
      " 76%|███████▌  | 765/1010 [00:20<00:04, 60.52it/s]"
     ]
    },
    {
     "name": "stderr",
     "output_type": "stream",
     "text": [
      "\r",
      " 76%|███████▋  | 772/1010 [00:20<00:03, 61.31it/s]"
     ]
    },
    {
     "name": "stderr",
     "output_type": "stream",
     "text": [
      "\r",
      " 77%|███████▋  | 779/1010 [00:20<00:03, 60.36it/s]"
     ]
    },
    {
     "name": "stderr",
     "output_type": "stream",
     "text": [
      "\r",
      " 78%|███████▊  | 786/1010 [00:20<00:03, 59.55it/s]"
     ]
    },
    {
     "name": "stderr",
     "output_type": "stream",
     "text": [
      "\r",
      " 79%|███████▊  | 793/1010 [00:20<00:03, 60.49it/s]"
     ]
    },
    {
     "name": "stderr",
     "output_type": "stream",
     "text": [
      "\r",
      " 79%|███████▉  | 800/1010 [00:20<00:03, 60.93it/s]"
     ]
    },
    {
     "name": "stderr",
     "output_type": "stream",
     "text": [
      "\r",
      " 80%|███████▉  | 807/1010 [00:20<00:03, 60.20it/s]"
     ]
    },
    {
     "name": "stderr",
     "output_type": "stream",
     "text": [
      "\r",
      " 81%|████████  | 814/1010 [00:20<00:03, 58.56it/s]"
     ]
    },
    {
     "name": "stderr",
     "output_type": "stream",
     "text": [
      "\r",
      " 81%|████████▏ | 821/1010 [00:21<00:03, 59.56it/s]"
     ]
    },
    {
     "name": "stderr",
     "output_type": "stream",
     "text": [
      "\r",
      " 82%|████████▏ | 827/1010 [00:21<00:03, 58.60it/s]"
     ]
    },
    {
     "name": "stderr",
     "output_type": "stream",
     "text": [
      "\r",
      " 83%|████████▎ | 834/1010 [00:21<00:02, 59.49it/s]"
     ]
    },
    {
     "name": "stderr",
     "output_type": "stream",
     "text": [
      "\r",
      " 83%|████████▎ | 841/1010 [00:21<00:02, 60.40it/s]"
     ]
    },
    {
     "name": "stderr",
     "output_type": "stream",
     "text": [
      "\r",
      " 84%|████████▍ | 848/1010 [00:21<00:02, 61.47it/s]"
     ]
    },
    {
     "name": "stderr",
     "output_type": "stream",
     "text": [
      "\r",
      " 85%|████████▍ | 855/1010 [00:21<00:02, 60.36it/s]"
     ]
    },
    {
     "name": "stderr",
     "output_type": "stream",
     "text": [
      "\r",
      " 85%|████████▌ | 862/1010 [00:21<00:02, 55.73it/s]"
     ]
    },
    {
     "name": "stderr",
     "output_type": "stream",
     "text": [
      "\r",
      " 86%|████████▌ | 869/1010 [00:21<00:02, 57.89it/s]"
     ]
    },
    {
     "name": "stderr",
     "output_type": "stream",
     "text": [
      "\r",
      " 87%|████████▋ | 875/1010 [00:21<00:02, 58.42it/s]"
     ]
    },
    {
     "name": "stderr",
     "output_type": "stream",
     "text": [
      "\r",
      " 87%|████████▋ | 882/1010 [00:22<00:02, 60.39it/s]"
     ]
    },
    {
     "name": "stderr",
     "output_type": "stream",
     "text": [
      "\r",
      " 88%|████████▊ | 889/1010 [00:22<00:01, 61.08it/s]"
     ]
    },
    {
     "name": "stderr",
     "output_type": "stream",
     "text": [
      "\r",
      " 89%|████████▊ | 896/1010 [00:22<00:01, 60.72it/s]"
     ]
    },
    {
     "name": "stderr",
     "output_type": "stream",
     "text": [
      "\r",
      " 89%|████████▉ | 903/1010 [00:22<00:01, 62.71it/s]"
     ]
    },
    {
     "name": "stderr",
     "output_type": "stream",
     "text": [
      "\r",
      "100%|██████████| 1010/1010 [00:22<00:00, 341.16it/s]"
     ]
    },
    {
     "name": "stderr",
     "output_type": "stream",
     "text": [
      "\r",
      "100%|██████████| 1010/1010 [00:22<00:00, 44.81it/s] "
     ]
    },
    {
     "name": "stderr",
     "output_type": "stream",
     "text": [
      "\n"
     ]
    }
   ],
   "source": [
    "result = MuseResult()\n",
    "muse(result, prob, 0., α=0.7, rng=np.random.RandomState(3), gradz_logLike_atol=1e-4, progress=True, maxsteps=10);"
   ]
  },
  {
   "cell_type": "code",
   "execution_count": 12,
   "id": "5b8290d1",
   "metadata": {
    "execution": {
     "iopub.execute_input": "2022-01-13T23:42:07.820525Z",
     "iopub.status.busy": "2022-01-13T23:42:07.818816Z",
     "iopub.status.idle": "2022-01-13T23:42:08.062461Z",
     "shell.execute_reply": "2022-01-13T23:42:08.063122Z"
    }
   },
   "outputs": [
    {
     "data": {
      "image/png": "[encoded data removed]",
      "text/plain": [
       "<Figure size 660x440 with 1 Axes>"
      ]
     },
     "metadata": {
      "needs_background": "light"
     },
     "output_type": "display_data"
    }
   ],
   "source": [
    "plt.plot([h[\"θ\"] for h in result.history], \".-\")\n",
    "plt.xlabel(\"step\")\n",
    "plt.ylabel(\"θ\");"
   ]
  },
  {
   "cell_type": "markdown",
   "id": "2313c18d",
   "metadata": {},
   "source": [
    "## With PyMC"
   ]
  },
  {
   "cell_type": "code",
   "execution_count": 13,
   "id": "04c086c6",
   "metadata": {
    "execution": {
     "iopub.execute_input": "2022-01-13T23:42:08.066553Z",
     "iopub.status.busy": "2022-01-13T23:42:08.065900Z",
     "iopub.status.idle": "2022-01-13T23:42:09.857359Z",
     "shell.execute_reply": "2022-01-13T23:42:09.856712Z"
    }
   },
   "outputs": [],
   "source": [
    "import pymc as pm\n",
    "from muse_inference.pymc import PyMCMuseProblem"
   ]
  },
  {
   "cell_type": "code",
   "execution_count": 14,
   "id": "fe7a2496",
   "metadata": {
    "execution": {
     "iopub.execute_input": "2022-01-13T23:42:09.864972Z",
     "iopub.status.busy": "2022-01-13T23:42:09.864316Z",
     "iopub.status.idle": "2022-01-13T23:43:15.022985Z",
     "shell.execute_reply": "2022-01-13T23:43:15.022375Z"
    }
   },
   "outputs": [],
   "source": [
    "def gen_funnel(x=None, θ=None, rng_seeder=None):\n",
    "    with pm.Model(rng_seeder=rng_seeder) as funnel:\n",
    "        θ = θ if θ else pm.Normal(\"θ\", 0, 3)\n",
    "        z = pm.Normal(\"z\", 0, np.exp(θ / 2), size=512)\n",
    "        x = pm.Normal(\"x\", z, 1, observed=x)\n",
    "    return funnel\n",
    "        \n",
    "rng = np.random.RandomState(0)\n",
    "x_obs = pm.sample_prior_predictive(1, model=gen_funnel(θ=θ_true, rng_seeder=rng)).prior.x[0,0]\n",
    "funnel = gen_funnel(x_obs)\n",
    "prob = PyMCMuseProblem(funnel)\n",
    "prob.x = x_obs"
   ]
  },
  {
   "cell_type": "code",
   "execution_count": 15,
   "id": "285dd1aa",
   "metadata": {
    "execution": {
     "iopub.execute_input": "2022-01-13T23:43:15.028446Z",
     "iopub.status.busy": "2022-01-13T23:43:15.027773Z",
     "iopub.status.idle": "2022-01-13T23:43:59.922912Z",
     "shell.execute_reply": "2022-01-13T23:43:59.923406Z"
    }
   },
   "outputs": [
    {
     "name": "stderr",
     "output_type": "stream",
     "text": [
      "\r",
      "  0%|          | 0/1010 [00:00<?, ?it/s]"
     ]
    },
    {
     "name": "stderr",
     "output_type": "stream",
     "text": [
      "\r",
      "  5%|▌         | 52/1010 [00:00<00:01, 519.43it/s]"
     ]
    },
    {
     "name": "stderr",
     "output_type": "stream",
     "text": [
      "\r",
      " 10%|█         | 104/1010 [00:04<00:46, 19.57it/s]"
     ]
    },
    {
     "name": "stderr",
     "output_type": "stream",
     "text": [
      "\r",
      " 16%|█▌        | 164/1010 [00:04<00:22, 37.35it/s]"
     ]
    },
    {
     "name": "stderr",
     "output_type": "stream",
     "text": [
      "\r",
      " 20%|██        | 204/1010 [00:08<00:42, 18.89it/s]"
     ]
    },
    {
     "name": "stderr",
     "output_type": "stream",
     "text": [
      "\r",
      " 27%|██▋       | 268/1010 [00:09<00:23, 31.97it/s]"
     ]
    },
    {
     "name": "stderr",
     "output_type": "stream",
     "text": [
      "\r",
      " 30%|███       | 307/1010 [00:13<00:37, 18.66it/s]"
     ]
    },
    {
     "name": "stderr",
     "output_type": "stream",
     "text": [
      "\r",
      " 37%|███▋      | 373/1010 [00:13<00:21, 30.21it/s]"
     ]
    },
    {
     "name": "stderr",
     "output_type": "stream",
     "text": [
      "\r",
      " 41%|████      | 412/1010 [00:18<00:31, 18.99it/s]"
     ]
    },
    {
     "name": "stderr",
     "output_type": "stream",
     "text": [
      "\r",
      " 47%|████▋     | 478/1010 [00:18<00:17, 29.91it/s]"
     ]
    },
    {
     "name": "stderr",
     "output_type": "stream",
     "text": [
      "\r",
      " 51%|█████     | 517/1010 [00:22<00:25, 19.11it/s]"
     ]
    },
    {
     "name": "stderr",
     "output_type": "stream",
     "text": [
      "\r",
      " 58%|█████▊    | 581/1010 [00:22<00:14, 29.40it/s]"
     ]
    },
    {
     "name": "stderr",
     "output_type": "stream",
     "text": [
      "\r",
      " 61%|██████▏   | 620/1010 [00:26<00:20, 18.96it/s]"
     ]
    },
    {
     "name": "stderr",
     "output_type": "stream",
     "text": [
      "\r",
      " 68%|██████▊   | 686/1010 [00:27<00:11, 29.44it/s]"
     ]
    },
    {
     "name": "stderr",
     "output_type": "stream",
     "text": [
      "\r",
      " 72%|███████▏  | 725/1010 [00:31<00:15, 18.96it/s]"
     ]
    },
    {
     "name": "stderr",
     "output_type": "stream",
     "text": [
      "\r",
      " 78%|███████▊  | 787/1010 [00:31<00:07, 28.65it/s]"
     ]
    },
    {
     "name": "stderr",
     "output_type": "stream",
     "text": [
      "\r",
      " 82%|████████▏ | 825/1010 [00:35<00:09, 18.68it/s]"
     ]
    },
    {
     "name": "stderr",
     "output_type": "stream",
     "text": [
      "\r",
      " 88%|████████▊ | 891/1010 [00:36<00:04, 29.05it/s]"
     ]
    },
    {
     "name": "stderr",
     "output_type": "stream",
     "text": [
      "\r",
      "100%|██████████| 1010/1010 [00:40<00:00, 28.07it/s]"
     ]
    },
    {
     "name": "stderr",
     "output_type": "stream",
     "text": [
      "\r",
      "100%|██████████| 1010/1010 [00:40<00:00, 24.98it/s]"
     ]
    },
    {
     "name": "stderr",
     "output_type": "stream",
     "text": [
      "\n"
     ]
    }
   ],
   "source": [
    "result = MuseResult()\n",
    "muse(result, prob, 0., α=0.7, rng=np.random.RandomState(3), gradz_logLike_atol=1e-4, progress=True, maxsteps=10);"
   ]
  },
  {
   "cell_type": "code",
   "execution_count": 16,
   "id": "23f15b47",
   "metadata": {
    "execution": {
     "iopub.execute_input": "2022-01-13T23:43:59.930271Z",
     "iopub.status.busy": "2022-01-13T23:43:59.929626Z",
     "iopub.status.idle": "2022-01-13T23:44:00.183064Z",
     "shell.execute_reply": "2022-01-13T23:44:00.182494Z"
    }
   },
   "outputs": [
    {
     "data": {
      "image/png": "[encoded data removed]",
      "text/plain": [
       "<Figure size 660x440 with 1 Axes>"
      ]
     },
     "metadata": {
      "needs_background": "light"
     },
     "output_type": "display_data"
    }
   ],
   "source": [
    "plt.plot([h[\"θ\"] for h in result.history], \".-\")\n",
    "plt.xlabel(\"step\")\n",
    "plt.ylabel(\"θ\");"
   ]
  }
 ],
 "metadata": {
  "jupytext": {
   "formats": "md,ipynb",
   "text_representation": {
    "extension": ".md",
    "format_name": "markdown",
    "format_version": "1.3",
    "jupytext_version": "1.13.6"
   }
  },
  "kernelspec": {
   "display_name": "Python 3 (ipykernel)",
   "language": "python",
   "name": "python3"
  },
  "language_info": {
   "codemirror_mode": {
    "name": "ipython",
    "version": 3
   },
   "file_extension": ".py",
   "mimetype": "text/x-python",
   "name": "python",
   "nbconvert_exporter": "python",
   "pygments_lexer": "ipython3",
   "version": "3.9.9"
  }
 },
 "nbformat": 4,
 "nbformat_minor": 5
}
